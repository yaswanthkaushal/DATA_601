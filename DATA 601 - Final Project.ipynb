{
 "cells": [
  {
   "cell_type": "markdown",
   "metadata": {},
   "source": [
    "## DATA 601 - Final Project - Alternative Fueling Station Locations in 2012 and 2014\n",
    "\n",
    "Dataset Name:  Alternative Fueling Station Locations in 2012 (as of April 4, 2012) and 2014 (as of April 23, 2015)\n",
    "\n",
    "Description: https://openei.org/datasets/dataset/alternative-fueling-station-locations\n",
    "\n",
    "CSV links:\n",
    "\n",
    "(as of April 23, 2015) 2014: https://openei.org/doe-opendata/dataset/cbb80cd9-1dcc-48a1-ad88-f653a621a1e6/resource/44bdb515-eb8e-43d4-8994-a92f584ae5ac/download/04232015altfuelstations.csv\n",
    "\n",
    "Rows: 20,329 + 1 header\n",
    "\n",
    "Columns: 38  \n",
    "\n",
    "Size: 4.97 MB  \n",
    "\n",
    "(as of April 4, 2012) 2012: https://openei.org/doe-opendata/dataset/cbb80cd9-1dcc-48a1-ad88-f653a621a1e6/resource/d4e6d771-d7ea-43d6-949d-8f1ce42dd10e/download/altfuelstationsapr42012.csv\n",
    "\n",
    "Rows: 10,458 + 1 header\n",
    "\n",
    "Columns: 28\n",
    "\n",
    "Size: 2.15 MB\n",
    "\n",
    "Cost: Free\n",
    "\n",
    "It has more than 2 data types.\n",
    "\n",
    "I found these datasets on the https://openei.org website. I had searched for the keywords \"electricity generation csv\" in Google and this was the first website that came up.\n",
    "\n",
    "The datasets have records for alternative fueling stations are located throughout the United States. I have no prior training in the data. I chose this dataset as I am interested in knowing how the trend is changing to alternative fuels. If the number of users for alternative fuels has increased then the number of alternative fueling stations should have increased.\n",
    "\n",
    "### Hypothesis\n",
    "\n",
    "The data has column \"Fuel Type Code\" which would provide the number of the type of alternative fueling stations available in the years 2012 and 2014.\n",
    "\n",
    "1. The total number of alternative fueling stations should have doubled.\n",
    "#### TRUE\n",
    "\n",
    "\n",
    "2. There should also be an increase of 50% in electric fueling stations and a decrease of 50% in CNG fueling stations.\n",
    "#### Partially true as there was an increase in both electric and CNG fueling stations\n",
    "\n",
    "### Questions:\n",
    "\n",
    "I would like to know\n",
    "\n",
    "1. Which states are having the highest alternative fueling stations?\n",
    "#### California has the highest number of alternative fueling stations and Texas has the second highest alternative fueling stations.\n",
    "\n",
    "\n",
    "2. What is the trend in the alternative fueling stations? Are the private stations increasing or the public stations?\n",
    "#### Both Private and Public alternative fueling stations have increased over the years from 2012 to 2014."
   ]
  },
  {
   "cell_type": "code",
   "execution_count": 1,
   "metadata": {},
   "outputs": [
    {
     "name": "stdout",
     "output_type": "stream",
     "text": [
      "Pandas 1.0.3\n"
     ]
    }
   ],
   "source": [
    "#Intializing libraries\n",
    "\n",
    "import warnings\n",
    "warnings.filterwarnings('ignore')\n",
    "\n",
    "import time\n",
    "import datetime\n",
    "import matplotlib.pyplot as plt\n",
    "import pandas as pd\n",
    "print('Pandas',pd.__version__)"
   ]
  },
  {
   "cell_type": "code",
   "execution_count": 2,
   "metadata": {},
   "outputs": [],
   "source": [
    "start_time = time.time()"
   ]
  },
  {
   "cell_type": "code",
   "execution_count": 3,
   "metadata": {},
   "outputs": [],
   "source": [
    "#Reading CSV\n",
    "\n",
    "start_time = time.time()\n",
    "df_2012 = pd.read_csv(\"https://openei.org/doe-opendata/dataset/cbb80cd9-1dcc-48a1-ad88-f653a621a1e6/resource/d4e6d771-d7ea-43d6-949d-8f1ce42dd10e/download/altfuelstationsapr42012.csv\", low_memory=False)\n",
    "df_2014 = pd.read_csv(\"https://openei.org/doe-opendata/dataset/cbb80cd9-1dcc-48a1-ad88-f653a621a1e6/resource/44bdb515-eb8e-43d4-8994-a92f584ae5ac/download/04232015altfuelstations.csv\", low_memory=False)\n",
    "pd.set_option(\"display.max_rows\", 999)\n",
    "pd.set_option(\"display.max_columns\", 999)"
   ]
  },
  {
   "cell_type": "code",
   "execution_count": 4,
   "metadata": {},
   "outputs": [
    {
     "data": {
      "text/html": [
       "<div>\n",
       "<style scoped>\n",
       "    .dataframe tbody tr th:only-of-type {\n",
       "        vertical-align: middle;\n",
       "    }\n",
       "\n",
       "    .dataframe tbody tr th {\n",
       "        vertical-align: top;\n",
       "    }\n",
       "\n",
       "    .dataframe thead th {\n",
       "        text-align: right;\n",
       "    }\n",
       "</style>\n",
       "<table border=\"1\" class=\"dataframe\">\n",
       "  <thead>\n",
       "    <tr style=\"text-align: right;\">\n",
       "      <th></th>\n",
       "      <th>Fuel Type Code</th>\n",
       "      <th>Station Name</th>\n",
       "      <th>Street Address</th>\n",
       "      <th>Intersection Directions</th>\n",
       "      <th>City</th>\n",
       "      <th>State</th>\n",
       "      <th>ZIP</th>\n",
       "      <th>Plus4</th>\n",
       "      <th>Station Phone</th>\n",
       "      <th>Status Code</th>\n",
       "      <th>Expected Date</th>\n",
       "      <th>Groups With Access Code</th>\n",
       "      <th>Access Days Time</th>\n",
       "      <th>Cards Accepted</th>\n",
       "      <th>BD Blends</th>\n",
       "      <th>NG Fill Type Code</th>\n",
       "      <th>NG PSI</th>\n",
       "      <th>EV Level1 EVSE Num</th>\n",
       "      <th>EV Level2 EVSE Num</th>\n",
       "      <th>EV DC Fast Count</th>\n",
       "      <th>EV Other Info</th>\n",
       "      <th>EV Network</th>\n",
       "      <th>EV Network Web</th>\n",
       "      <th>Geocode Status</th>\n",
       "      <th>Latitude</th>\n",
       "      <th>Longitude</th>\n",
       "      <th>Date Last Confirmed</th>\n",
       "      <th>ID</th>\n",
       "    </tr>\n",
       "  </thead>\n",
       "  <tbody>\n",
       "    <tr>\n",
       "      <th>0</th>\n",
       "      <td>CNG</td>\n",
       "      <td>Alagasco Tuscaloosa Operations Center</td>\n",
       "      <td>5220 Metro Park Dr</td>\n",
       "      <td>NaN</td>\n",
       "      <td>Tuscaloosa</td>\n",
       "      <td>AL</td>\n",
       "      <td>35405</td>\n",
       "      <td>NaN</td>\n",
       "      <td>NaN</td>\n",
       "      <td>E</td>\n",
       "      <td>NaN</td>\n",
       "      <td>Private access only</td>\n",
       "      <td>NaN</td>\n",
       "      <td>NaN</td>\n",
       "      <td>NaN</td>\n",
       "      <td>B</td>\n",
       "      <td>3600</td>\n",
       "      <td>NaN</td>\n",
       "      <td>NaN</td>\n",
       "      <td>NaN</td>\n",
       "      <td>NaN</td>\n",
       "      <td>NaN</td>\n",
       "      <td>NaN</td>\n",
       "      <td>200-8</td>\n",
       "      <td>33.161768</td>\n",
       "      <td>-87.556760</td>\n",
       "      <td>2011-08-31</td>\n",
       "      <td>14</td>\n",
       "    </tr>\n",
       "    <tr>\n",
       "      <th>1</th>\n",
       "      <td>CNG</td>\n",
       "      <td>Alagasco Montgomery Operations Center</td>\n",
       "      <td>2951 Chestnut St</td>\n",
       "      <td>NaN</td>\n",
       "      <td>Montgomery</td>\n",
       "      <td>AL</td>\n",
       "      <td>36107</td>\n",
       "      <td>NaN</td>\n",
       "      <td>NaN</td>\n",
       "      <td>E</td>\n",
       "      <td>NaN</td>\n",
       "      <td>Private access only</td>\n",
       "      <td>NaN</td>\n",
       "      <td>NaN</td>\n",
       "      <td>NaN</td>\n",
       "      <td>B</td>\n",
       "      <td>3600</td>\n",
       "      <td>NaN</td>\n",
       "      <td>NaN</td>\n",
       "      <td>NaN</td>\n",
       "      <td>NaN</td>\n",
       "      <td>NaN</td>\n",
       "      <td>NaN</td>\n",
       "      <td>200-8</td>\n",
       "      <td>32.367163</td>\n",
       "      <td>-86.267396</td>\n",
       "      <td>2011-08-31</td>\n",
       "      <td>17</td>\n",
       "    </tr>\n",
       "    <tr>\n",
       "      <th>2</th>\n",
       "      <td>CNG</td>\n",
       "      <td>Fort Gordon</td>\n",
       "      <td>105th Ave</td>\n",
       "      <td>Building 61300</td>\n",
       "      <td>Fort Gordon</td>\n",
       "      <td>GA</td>\n",
       "      <td>30905</td>\n",
       "      <td>NaN</td>\n",
       "      <td>NaN</td>\n",
       "      <td>E</td>\n",
       "      <td>NaN</td>\n",
       "      <td>Private - government only</td>\n",
       "      <td>NaN</td>\n",
       "      <td>NaN</td>\n",
       "      <td>NaN</td>\n",
       "      <td>NaN</td>\n",
       "      <td>NaN</td>\n",
       "      <td>NaN</td>\n",
       "      <td>NaN</td>\n",
       "      <td>NaN</td>\n",
       "      <td>NaN</td>\n",
       "      <td>NaN</td>\n",
       "      <td>NaN</td>\n",
       "      <td>200-6</td>\n",
       "      <td>33.413446</td>\n",
       "      <td>-82.176044</td>\n",
       "      <td>2011-10-31</td>\n",
       "      <td>25</td>\n",
       "    </tr>\n",
       "    <tr>\n",
       "      <th>3</th>\n",
       "      <td>CNG</td>\n",
       "      <td>Clayton County Fleet Maintenace</td>\n",
       "      <td>1348 Government Cir</td>\n",
       "      <td>I-75 south of Atlanta to State Route 138</td>\n",
       "      <td>Jonesboro</td>\n",
       "      <td>GA</td>\n",
       "      <td>30236</td>\n",
       "      <td>5907.0</td>\n",
       "      <td>NaN</td>\n",
       "      <td>E</td>\n",
       "      <td>NaN</td>\n",
       "      <td>Private - government only</td>\n",
       "      <td>NaN</td>\n",
       "      <td>NaN</td>\n",
       "      <td>NaN</td>\n",
       "      <td>Q</td>\n",
       "      <td>3000</td>\n",
       "      <td>NaN</td>\n",
       "      <td>NaN</td>\n",
       "      <td>NaN</td>\n",
       "      <td>NaN</td>\n",
       "      <td>NaN</td>\n",
       "      <td>NaN</td>\n",
       "      <td>200-8</td>\n",
       "      <td>33.535725</td>\n",
       "      <td>-84.346895</td>\n",
       "      <td>2011-06-30</td>\n",
       "      <td>40</td>\n",
       "    </tr>\n",
       "    <tr>\n",
       "      <th>4</th>\n",
       "      <td>CNG</td>\n",
       "      <td>Clean Energy - PS Energy - UFO</td>\n",
       "      <td>340 Whitehall St SW</td>\n",
       "      <td>From I-7585 N, exit 91 to Central Avenue, left...</td>\n",
       "      <td>Atlanta</td>\n",
       "      <td>GA</td>\n",
       "      <td>30303</td>\n",
       "      <td>3718.0</td>\n",
       "      <td>404-321-5711</td>\n",
       "      <td>E</td>\n",
       "      <td>NaN</td>\n",
       "      <td>Private - fleet customers only</td>\n",
       "      <td>Contact Andrea Whisenhunt at 404-321-5711 for ...</td>\n",
       "      <td>FuelMan Voyager Wright_Exp</td>\n",
       "      <td>NaN</td>\n",
       "      <td>Q</td>\n",
       "      <td>3000</td>\n",
       "      <td>NaN</td>\n",
       "      <td>NaN</td>\n",
       "      <td>NaN</td>\n",
       "      <td>NaN</td>\n",
       "      <td>NaN</td>\n",
       "      <td>NaN</td>\n",
       "      <td>200-8</td>\n",
       "      <td>33.745474</td>\n",
       "      <td>-84.400021</td>\n",
       "      <td>2011-06-30</td>\n",
       "      <td>42</td>\n",
       "    </tr>\n",
       "  </tbody>\n",
       "</table>\n",
       "</div>"
      ],
      "text/plain": [
       "  Fuel Type Code                           Station Name       Street Address  \\\n",
       "0            CNG  Alagasco Tuscaloosa Operations Center   5220 Metro Park Dr   \n",
       "1            CNG  Alagasco Montgomery Operations Center     2951 Chestnut St   \n",
       "2            CNG                            Fort Gordon            105th Ave   \n",
       "3            CNG        Clayton County Fleet Maintenace  1348 Government Cir   \n",
       "4            CNG         Clean Energy - PS Energy - UFO  340 Whitehall St SW   \n",
       "\n",
       "                             Intersection Directions         City State  \\\n",
       "0                                                NaN   Tuscaloosa    AL   \n",
       "1                                                NaN   Montgomery    AL   \n",
       "2                                     Building 61300  Fort Gordon    GA   \n",
       "3           I-75 south of Atlanta to State Route 138    Jonesboro    GA   \n",
       "4  From I-7585 N, exit 91 to Central Avenue, left...      Atlanta    GA   \n",
       "\n",
       "     ZIP   Plus4 Station Phone Status Code Expected Date  \\\n",
       "0  35405     NaN           NaN           E           NaN   \n",
       "1  36107     NaN           NaN           E           NaN   \n",
       "2  30905     NaN           NaN           E           NaN   \n",
       "3  30236  5907.0           NaN           E           NaN   \n",
       "4  30303  3718.0  404-321-5711           E           NaN   \n",
       "\n",
       "          Groups With Access Code  \\\n",
       "0             Private access only   \n",
       "1             Private access only   \n",
       "2       Private - government only   \n",
       "3       Private - government only   \n",
       "4  Private - fleet customers only   \n",
       "\n",
       "                                    Access Days Time  \\\n",
       "0                                                NaN   \n",
       "1                                                NaN   \n",
       "2                                                NaN   \n",
       "3                                                NaN   \n",
       "4  Contact Andrea Whisenhunt at 404-321-5711 for ...   \n",
       "\n",
       "               Cards Accepted BD Blends NG Fill Type Code NG PSI  \\\n",
       "0                         NaN       NaN                 B   3600   \n",
       "1                         NaN       NaN                 B   3600   \n",
       "2                         NaN       NaN               NaN    NaN   \n",
       "3                         NaN       NaN                 Q   3000   \n",
       "4  FuelMan Voyager Wright_Exp       NaN                 Q   3000   \n",
       "\n",
       "   EV Level1 EVSE Num  EV Level2 EVSE Num  EV DC Fast Count EV Other Info  \\\n",
       "0                 NaN                 NaN               NaN           NaN   \n",
       "1                 NaN                 NaN               NaN           NaN   \n",
       "2                 NaN                 NaN               NaN           NaN   \n",
       "3                 NaN                 NaN               NaN           NaN   \n",
       "4                 NaN                 NaN               NaN           NaN   \n",
       "\n",
       "  EV Network EV Network Web Geocode Status   Latitude  Longitude  \\\n",
       "0        NaN            NaN          200-8  33.161768 -87.556760   \n",
       "1        NaN            NaN          200-8  32.367163 -86.267396   \n",
       "2        NaN            NaN          200-6  33.413446 -82.176044   \n",
       "3        NaN            NaN          200-8  33.535725 -84.346895   \n",
       "4        NaN            NaN          200-8  33.745474 -84.400021   \n",
       "\n",
       "  Date Last Confirmed  ID  \n",
       "0          2011-08-31  14  \n",
       "1          2011-08-31  17  \n",
       "2          2011-10-31  25  \n",
       "3          2011-06-30  40  \n",
       "4          2011-06-30  42  "
      ]
     },
     "execution_count": 4,
     "metadata": {},
     "output_type": "execute_result"
    }
   ],
   "source": [
    "df_2012.head()"
   ]
  },
  {
   "cell_type": "code",
   "execution_count": 5,
   "metadata": {},
   "outputs": [],
   "source": [
    "#df_2012.shape"
   ]
  },
  {
   "cell_type": "code",
   "execution_count": 6,
   "metadata": {},
   "outputs": [],
   "source": [
    "#Adding a new cloumn with value of the year (2012). It will be used to differentiate between the data.\n",
    "\n",
    "df_2012['Data Year'] = 2012"
   ]
  },
  {
   "cell_type": "code",
   "execution_count": 7,
   "metadata": {},
   "outputs": [
    {
     "name": "stdout",
     "output_type": "stream",
     "text": [
      "<class 'pandas.core.frame.DataFrame'>\n",
      "RangeIndex: 10458 entries, 0 to 10457\n",
      "Data columns (total 29 columns):\n",
      " #   Column                   Non-Null Count  Dtype  \n",
      "---  ------                   --------------  -----  \n",
      " 0   Fuel Type Code           10458 non-null  object \n",
      " 1   Station Name             10458 non-null  object \n",
      " 2   Street Address           10421 non-null  object \n",
      " 3   Intersection Directions  4242 non-null   object \n",
      " 4   City                     10458 non-null  object \n",
      " 5   State                    10458 non-null  object \n",
      " 6   ZIP                      10458 non-null  int64  \n",
      " 7   Plus4                    1641 non-null   float64\n",
      " 8   Station Phone            8784 non-null   object \n",
      " 9   Status Code              10458 non-null  object \n",
      " 10  Expected Date            434 non-null    object \n",
      " 11  Groups With Access Code  10458 non-null  object \n",
      " 12  Access Days Time         9034 non-null   object \n",
      " 13  Cards Accepted           5605 non-null   object \n",
      " 14  BD Blends                659 non-null    object \n",
      " 15  NG Fill Type Code        1040 non-null   object \n",
      " 16  NG PSI                   994 non-null    object \n",
      " 17  EV Level1 EVSE Num       1287 non-null   float64\n",
      " 18  EV Level2 EVSE Num       2827 non-null   float64\n",
      " 19  EV DC Fast Count         45 non-null     float64\n",
      " 20  EV Other Info            316 non-null    object \n",
      " 21  EV Network               1892 non-null   object \n",
      " 22  EV Network Web           1882 non-null   object \n",
      " 23  Geocode Status           10457 non-null  object \n",
      " 24  Latitude                 10458 non-null  float64\n",
      " 25  Longitude                10458 non-null  float64\n",
      " 26  Date Last Confirmed      10458 non-null  object \n",
      " 27  ID                       10458 non-null  int64  \n",
      " 28  Data Year                10458 non-null  int64  \n",
      "dtypes: float64(6), int64(3), object(20)\n",
      "memory usage: 2.3+ MB\n"
     ]
    }
   ],
   "source": [
    "df_2012.info()"
   ]
  },
  {
   "cell_type": "code",
   "execution_count": 8,
   "metadata": {},
   "outputs": [],
   "source": [
    "#df_2012.isna().sum()"
   ]
  },
  {
   "cell_type": "code",
   "execution_count": 9,
   "metadata": {},
   "outputs": [
    {
     "data": {
      "text/html": [
       "<div>\n",
       "<style scoped>\n",
       "    .dataframe tbody tr th:only-of-type {\n",
       "        vertical-align: middle;\n",
       "    }\n",
       "\n",
       "    .dataframe tbody tr th {\n",
       "        vertical-align: top;\n",
       "    }\n",
       "\n",
       "    .dataframe thead th {\n",
       "        text-align: right;\n",
       "    }\n",
       "</style>\n",
       "<table border=\"1\" class=\"dataframe\">\n",
       "  <thead>\n",
       "    <tr style=\"text-align: right;\">\n",
       "      <th></th>\n",
       "      <th>Fuel Type Code</th>\n",
       "      <th>Station Name</th>\n",
       "      <th>Street Address</th>\n",
       "      <th>Intersection Directions</th>\n",
       "      <th>City</th>\n",
       "      <th>State</th>\n",
       "      <th>ZIP</th>\n",
       "      <th>Plus4</th>\n",
       "      <th>Station Phone</th>\n",
       "      <th>Status Code</th>\n",
       "      <th>Expected Date</th>\n",
       "      <th>Groups With Access Code</th>\n",
       "      <th>Access Days Time</th>\n",
       "      <th>Cards Accepted</th>\n",
       "      <th>BD Blends</th>\n",
       "      <th>NG Fill Type Code</th>\n",
       "      <th>NG PSI</th>\n",
       "      <th>EV Level1 EVSE Num</th>\n",
       "      <th>EV Level2 EVSE Num</th>\n",
       "      <th>EV DC Fast Count</th>\n",
       "      <th>EV Other Info</th>\n",
       "      <th>EV Network</th>\n",
       "      <th>EV Network Web</th>\n",
       "      <th>Geocode Status</th>\n",
       "      <th>Latitude</th>\n",
       "      <th>Longitude</th>\n",
       "      <th>Date Last Confirmed</th>\n",
       "      <th>ID</th>\n",
       "      <th>Updated At</th>\n",
       "      <th>Owner Type Code</th>\n",
       "      <th>Federal Agency ID</th>\n",
       "      <th>Federal Agency Name</th>\n",
       "      <th>Open Date</th>\n",
       "      <th>Hydrogen Status Link</th>\n",
       "      <th>NG Vehicle Class</th>\n",
       "      <th>LPG Primary</th>\n",
       "      <th>E85 Blender Pump</th>\n",
       "      <th>EV Connector Types</th>\n",
       "    </tr>\n",
       "  </thead>\n",
       "  <tbody>\n",
       "    <tr>\n",
       "      <th>0</th>\n",
       "      <td>LPG</td>\n",
       "      <td>Irish Propane</td>\n",
       "      <td>70 Katherine St</td>\n",
       "      <td>At Bailey and Clinton</td>\n",
       "      <td>Buffalo</td>\n",
       "      <td>NY</td>\n",
       "      <td>14210</td>\n",
       "      <td>NaN</td>\n",
       "      <td>716-852-3335</td>\n",
       "      <td>E</td>\n",
       "      <td>NaN</td>\n",
       "      <td>Public</td>\n",
       "      <td>8am-4:45pm M-F</td>\n",
       "      <td>Cash A D M V</td>\n",
       "      <td>NaN</td>\n",
       "      <td>NaN</td>\n",
       "      <td>NaN</td>\n",
       "      <td>NaN</td>\n",
       "      <td>NaN</td>\n",
       "      <td>NaN</td>\n",
       "      <td>NaN</td>\n",
       "      <td>NaN</td>\n",
       "      <td>NaN</td>\n",
       "      <td>GPS</td>\n",
       "      <td>42.859400</td>\n",
       "      <td>-78.858933</td>\n",
       "      <td>2015-04-03</td>\n",
       "      <td>13444</td>\n",
       "      <td>2015-04-03 16:57:34 UTC</td>\n",
       "      <td>P</td>\n",
       "      <td>NaN</td>\n",
       "      <td>NaN</td>\n",
       "      <td>NaN</td>\n",
       "      <td>NaN</td>\n",
       "      <td>NaN</td>\n",
       "      <td>False</td>\n",
       "      <td>NaN</td>\n",
       "      <td>NaN</td>\n",
       "    </tr>\n",
       "    <tr>\n",
       "      <th>1</th>\n",
       "      <td>ELEC</td>\n",
       "      <td>Latitudes</td>\n",
       "      <td>2401 Highway 528</td>\n",
       "      <td>NaN</td>\n",
       "      <td>Rio Rancho</td>\n",
       "      <td>NM</td>\n",
       "      <td>87124</td>\n",
       "      <td>NaN</td>\n",
       "      <td>505-369-7777</td>\n",
       "      <td>E</td>\n",
       "      <td>NaN</td>\n",
       "      <td>Public</td>\n",
       "      <td>24 hours daily</td>\n",
       "      <td>NaN</td>\n",
       "      <td>NaN</td>\n",
       "      <td>NaN</td>\n",
       "      <td>NaN</td>\n",
       "      <td>NaN</td>\n",
       "      <td>2.0</td>\n",
       "      <td>NaN</td>\n",
       "      <td>NaN</td>\n",
       "      <td>NaN</td>\n",
       "      <td>NaN</td>\n",
       "      <td>200-8</td>\n",
       "      <td>35.218430</td>\n",
       "      <td>-106.663000</td>\n",
       "      <td>2015-01-06</td>\n",
       "      <td>50083</td>\n",
       "      <td>2015-01-06 17:43:46 UTC</td>\n",
       "      <td>P</td>\n",
       "      <td>NaN</td>\n",
       "      <td>NaN</td>\n",
       "      <td>2012-08-01</td>\n",
       "      <td>NaN</td>\n",
       "      <td>NaN</td>\n",
       "      <td>NaN</td>\n",
       "      <td>NaN</td>\n",
       "      <td>J1772</td>\n",
       "    </tr>\n",
       "    <tr>\n",
       "      <th>2</th>\n",
       "      <td>ELEC</td>\n",
       "      <td>American Bush - Solar Canopy</td>\n",
       "      <td>2630 S 300 W</td>\n",
       "      <td>Located across from Tire World</td>\n",
       "      <td>Salt Lake City</td>\n",
       "      <td>UT</td>\n",
       "      <td>84115</td>\n",
       "      <td>NaN</td>\n",
       "      <td>801-518-3529</td>\n",
       "      <td>E</td>\n",
       "      <td>NaN</td>\n",
       "      <td>Public</td>\n",
       "      <td>24 hours daily</td>\n",
       "      <td>NaN</td>\n",
       "      <td>NaN</td>\n",
       "      <td>NaN</td>\n",
       "      <td>NaN</td>\n",
       "      <td>NaN</td>\n",
       "      <td>2.0</td>\n",
       "      <td>NaN</td>\n",
       "      <td>NaN</td>\n",
       "      <td>NaN</td>\n",
       "      <td>NaN</td>\n",
       "      <td>200-8</td>\n",
       "      <td>40.714420</td>\n",
       "      <td>-111.900105</td>\n",
       "      <td>2015-01-06</td>\n",
       "      <td>42013</td>\n",
       "      <td>2015-01-06 17:47:30 UTC</td>\n",
       "      <td>P</td>\n",
       "      <td>NaN</td>\n",
       "      <td>NaN</td>\n",
       "      <td>2011-12-01</td>\n",
       "      <td>NaN</td>\n",
       "      <td>NaN</td>\n",
       "      <td>NaN</td>\n",
       "      <td>NaN</td>\n",
       "      <td>J1772</td>\n",
       "    </tr>\n",
       "    <tr>\n",
       "      <th>3</th>\n",
       "      <td>ELEC</td>\n",
       "      <td>McDonald's #31850 - Flower Mound TX</td>\n",
       "      <td>3601 FM 407</td>\n",
       "      <td>NaN</td>\n",
       "      <td>Flower Mound</td>\n",
       "      <td>TX</td>\n",
       "      <td>75028</td>\n",
       "      <td>NaN</td>\n",
       "      <td>888-998-2546</td>\n",
       "      <td>E</td>\n",
       "      <td>NaN</td>\n",
       "      <td>Public</td>\n",
       "      <td>MON: 24 hours | TUE: 24 hours | WED: 24 hours ...</td>\n",
       "      <td>NaN</td>\n",
       "      <td>NaN</td>\n",
       "      <td>NaN</td>\n",
       "      <td>NaN</td>\n",
       "      <td>NaN</td>\n",
       "      <td>1.0</td>\n",
       "      <td>NaN</td>\n",
       "      <td>NaN</td>\n",
       "      <td>Blink Network</td>\n",
       "      <td>http://www.blinknetwork.com/</td>\n",
       "      <td>GPS</td>\n",
       "      <td>33.071809</td>\n",
       "      <td>-97.085119</td>\n",
       "      <td>2015-04-23</td>\n",
       "      <td>63495</td>\n",
       "      <td>2015-04-23 07:09:51 UTC</td>\n",
       "      <td>NaN</td>\n",
       "      <td>NaN</td>\n",
       "      <td>NaN</td>\n",
       "      <td>NaN</td>\n",
       "      <td>NaN</td>\n",
       "      <td>NaN</td>\n",
       "      <td>NaN</td>\n",
       "      <td>NaN</td>\n",
       "      <td>J1772</td>\n",
       "    </tr>\n",
       "    <tr>\n",
       "      <th>4</th>\n",
       "      <td>ELEC</td>\n",
       "      <td>CITY OF SEATTLE</td>\n",
       "      <td>600 Pine St</td>\n",
       "      <td>NaN</td>\n",
       "      <td>Seattle</td>\n",
       "      <td>WA</td>\n",
       "      <td>98101</td>\n",
       "      <td>NaN</td>\n",
       "      <td>888-758-4389</td>\n",
       "      <td>E</td>\n",
       "      <td>NaN</td>\n",
       "      <td>Public</td>\n",
       "      <td>24 hours daily</td>\n",
       "      <td>NaN</td>\n",
       "      <td>NaN</td>\n",
       "      <td>NaN</td>\n",
       "      <td>NaN</td>\n",
       "      <td>NaN</td>\n",
       "      <td>7.0</td>\n",
       "      <td>NaN</td>\n",
       "      <td>NaN</td>\n",
       "      <td>ChargePoint Network</td>\n",
       "      <td>http://www.mychargepoint.net/</td>\n",
       "      <td>200-8</td>\n",
       "      <td>47.612514</td>\n",
       "      <td>-122.335409</td>\n",
       "      <td>2015-04-23</td>\n",
       "      <td>43306</td>\n",
       "      <td>2015-04-23 07:54:36 UTC</td>\n",
       "      <td>NaN</td>\n",
       "      <td>NaN</td>\n",
       "      <td>NaN</td>\n",
       "      <td>NaN</td>\n",
       "      <td>NaN</td>\n",
       "      <td>NaN</td>\n",
       "      <td>NaN</td>\n",
       "      <td>NaN</td>\n",
       "      <td>J1772</td>\n",
       "    </tr>\n",
       "  </tbody>\n",
       "</table>\n",
       "</div>"
      ],
      "text/plain": [
       "  Fuel Type Code                         Station Name    Street Address  \\\n",
       "0            LPG                        Irish Propane   70 Katherine St   \n",
       "1           ELEC                            Latitudes  2401 Highway 528   \n",
       "2           ELEC         American Bush - Solar Canopy      2630 S 300 W   \n",
       "3           ELEC  McDonald's #31850 - Flower Mound TX       3601 FM 407   \n",
       "4           ELEC                      CITY OF SEATTLE       600 Pine St   \n",
       "\n",
       "          Intersection Directions            City State    ZIP  Plus4  \\\n",
       "0           At Bailey and Clinton         Buffalo    NY  14210    NaN   \n",
       "1                             NaN      Rio Rancho    NM  87124    NaN   \n",
       "2  Located across from Tire World  Salt Lake City    UT  84115    NaN   \n",
       "3                             NaN    Flower Mound    TX  75028    NaN   \n",
       "4                             NaN         Seattle    WA  98101    NaN   \n",
       "\n",
       "  Station Phone Status Code Expected Date Groups With Access Code  \\\n",
       "0  716-852-3335           E           NaN                  Public   \n",
       "1  505-369-7777           E           NaN                  Public   \n",
       "2  801-518-3529           E           NaN                  Public   \n",
       "3  888-998-2546           E           NaN                  Public   \n",
       "4  888-758-4389           E           NaN                  Public   \n",
       "\n",
       "                                    Access Days Time Cards Accepted BD Blends  \\\n",
       "0                                     8am-4:45pm M-F   Cash A D M V       NaN   \n",
       "1                                     24 hours daily            NaN       NaN   \n",
       "2                                     24 hours daily            NaN       NaN   \n",
       "3  MON: 24 hours | TUE: 24 hours | WED: 24 hours ...            NaN       NaN   \n",
       "4                                     24 hours daily            NaN       NaN   \n",
       "\n",
       "  NG Fill Type Code NG PSI  EV Level1 EVSE Num  EV Level2 EVSE Num  \\\n",
       "0               NaN    NaN                 NaN                 NaN   \n",
       "1               NaN    NaN                 NaN                 2.0   \n",
       "2               NaN    NaN                 NaN                 2.0   \n",
       "3               NaN    NaN                 NaN                 1.0   \n",
       "4               NaN    NaN                 NaN                 7.0   \n",
       "\n",
       "   EV DC Fast Count EV Other Info           EV Network  \\\n",
       "0               NaN           NaN                  NaN   \n",
       "1               NaN           NaN                  NaN   \n",
       "2               NaN           NaN                  NaN   \n",
       "3               NaN           NaN        Blink Network   \n",
       "4               NaN           NaN  ChargePoint Network   \n",
       "\n",
       "                  EV Network Web Geocode Status   Latitude   Longitude  \\\n",
       "0                            NaN            GPS  42.859400  -78.858933   \n",
       "1                            NaN          200-8  35.218430 -106.663000   \n",
       "2                            NaN          200-8  40.714420 -111.900105   \n",
       "3   http://www.blinknetwork.com/            GPS  33.071809  -97.085119   \n",
       "4  http://www.mychargepoint.net/          200-8  47.612514 -122.335409   \n",
       "\n",
       "  Date Last Confirmed     ID               Updated At Owner Type Code  \\\n",
       "0          2015-04-03  13444  2015-04-03 16:57:34 UTC               P   \n",
       "1          2015-01-06  50083  2015-01-06 17:43:46 UTC               P   \n",
       "2          2015-01-06  42013  2015-01-06 17:47:30 UTC               P   \n",
       "3          2015-04-23  63495  2015-04-23 07:09:51 UTC             NaN   \n",
       "4          2015-04-23  43306  2015-04-23 07:54:36 UTC             NaN   \n",
       "\n",
       "   Federal Agency ID Federal Agency Name   Open Date Hydrogen Status Link  \\\n",
       "0                NaN                 NaN         NaN                  NaN   \n",
       "1                NaN                 NaN  2012-08-01                  NaN   \n",
       "2                NaN                 NaN  2011-12-01                  NaN   \n",
       "3                NaN                 NaN         NaN                  NaN   \n",
       "4                NaN                 NaN         NaN                  NaN   \n",
       "\n",
       "  NG Vehicle Class LPG Primary E85 Blender Pump EV Connector Types  \n",
       "0              NaN       False              NaN                NaN  \n",
       "1              NaN         NaN              NaN              J1772  \n",
       "2              NaN         NaN              NaN              J1772  \n",
       "3              NaN         NaN              NaN              J1772  \n",
       "4              NaN         NaN              NaN              J1772  "
      ]
     },
     "execution_count": 9,
     "metadata": {},
     "output_type": "execute_result"
    }
   ],
   "source": [
    "df_2014.head()"
   ]
  },
  {
   "cell_type": "code",
   "execution_count": 10,
   "metadata": {},
   "outputs": [],
   "source": [
    "#df_2014.shape"
   ]
  },
  {
   "cell_type": "code",
   "execution_count": 11,
   "metadata": {},
   "outputs": [],
   "source": [
    "#Adding a new cloumn with value of the year (2014). It will be used to differentiate between the data.\n",
    "\n",
    "df_2014['Data Year'] = 2014"
   ]
  },
  {
   "cell_type": "code",
   "execution_count": 12,
   "metadata": {},
   "outputs": [
    {
     "name": "stdout",
     "output_type": "stream",
     "text": [
      "<class 'pandas.core.frame.DataFrame'>\n",
      "RangeIndex: 20329 entries, 0 to 20328\n",
      "Data columns (total 39 columns):\n",
      " #   Column                   Non-Null Count  Dtype  \n",
      "---  ------                   --------------  -----  \n",
      " 0   Fuel Type Code           20329 non-null  object \n",
      " 1   Station Name             20329 non-null  object \n",
      " 2   Street Address           20299 non-null  object \n",
      " 3   Intersection Directions  4359 non-null   object \n",
      " 4   City                     20329 non-null  object \n",
      " 5   State                    20329 non-null  object \n",
      " 6   ZIP                      20329 non-null  int64  \n",
      " 7   Plus4                    0 non-null      float64\n",
      " 8   Station Phone            17866 non-null  object \n",
      " 9   Status Code              20329 non-null  object \n",
      " 10  Expected Date            461 non-null    object \n",
      " 11  Groups With Access Code  20328 non-null  object \n",
      " 12  Access Days Time         17417 non-null  object \n",
      " 13  Cards Accepted           7004 non-null   object \n",
      " 14  BD Blends                782 non-null    object \n",
      " 15  NG Fill Type Code        1709 non-null   object \n",
      " 16  NG PSI                   1707 non-null   object \n",
      " 17  EV Level1 EVSE Num       1864 non-null   float64\n",
      " 18  EV Level2 EVSE Num       10618 non-null  float64\n",
      " 19  EV DC Fast Count         933 non-null    float64\n",
      " 20  EV Other Info            158 non-null    object \n",
      " 21  EV Network               6757 non-null   object \n",
      " 22  EV Network Web           6757 non-null   object \n",
      " 23  Geocode Status           20325 non-null  object \n",
      " 24  Latitude                 20329 non-null  float64\n",
      " 25  Longitude                20329 non-null  float64\n",
      " 26  Date Last Confirmed      20257 non-null  object \n",
      " 27  ID                       20329 non-null  int64  \n",
      " 28  Updated At               20329 non-null  object \n",
      " 29  Owner Type Code          14170 non-null  object \n",
      " 30  Federal Agency ID        525 non-null    float64\n",
      " 31  Federal Agency Name      525 non-null    object \n",
      " 32  Open Date                10769 non-null  object \n",
      " 33  Hydrogen Status Link     5 non-null      object \n",
      " 34  NG Vehicle Class         1915 non-null   object \n",
      " 35  LPG Primary              3110 non-null   object \n",
      " 36  E85 Blender Pump         2957 non-null   object \n",
      " 37  EV Connector Types       11342 non-null  object \n",
      " 38  Data Year                20329 non-null  int64  \n",
      "dtypes: float64(7), int64(3), object(29)\n",
      "memory usage: 6.0+ MB\n"
     ]
    }
   ],
   "source": [
    "df_2014.info()"
   ]
  },
  {
   "cell_type": "code",
   "execution_count": 13,
   "metadata": {},
   "outputs": [],
   "source": [
    "#df_2014.isna().sum()"
   ]
  },
  {
   "cell_type": "code",
   "execution_count": 14,
   "metadata": {},
   "outputs": [],
   "source": [
    "#Combining the data from 2012 and 2014 into a new dataframe and I am considering only the columns that are required for my analysis.\n",
    "\n",
    "df = pd.concat([df_2012[['Data Year', 'Fuel Type Code', 'Station Name', 'City' , 'State', 'ZIP', 'Groups With Access Code', 'Latitude', 'Longitude']],\n",
    "                df_2014[['Data Year', 'Fuel Type Code', 'Station Name', 'City' , 'State', 'ZIP', 'Groups With Access Code', 'Latitude', 'Longitude']]])"
   ]
  },
  {
   "cell_type": "code",
   "execution_count": 15,
   "metadata": {},
   "outputs": [],
   "source": [
    "#df.shape"
   ]
  },
  {
   "cell_type": "code",
   "execution_count": 16,
   "metadata": {},
   "outputs": [
    {
     "name": "stdout",
     "output_type": "stream",
     "text": [
      "<class 'pandas.core.frame.DataFrame'>\n",
      "Int64Index: 30787 entries, 0 to 20328\n",
      "Data columns (total 9 columns):\n",
      " #   Column                   Non-Null Count  Dtype  \n",
      "---  ------                   --------------  -----  \n",
      " 0   Data Year                30787 non-null  int64  \n",
      " 1   Fuel Type Code           30787 non-null  object \n",
      " 2   Station Name             30787 non-null  object \n",
      " 3   City                     30787 non-null  object \n",
      " 4   State                    30787 non-null  object \n",
      " 5   ZIP                      30787 non-null  int64  \n",
      " 6   Groups With Access Code  30786 non-null  object \n",
      " 7   Latitude                 30787 non-null  float64\n",
      " 8   Longitude                30787 non-null  float64\n",
      "dtypes: float64(2), int64(2), object(5)\n",
      "memory usage: 2.3+ MB\n"
     ]
    }
   ],
   "source": [
    "df.info()"
   ]
  },
  {
   "cell_type": "markdown",
   "metadata": {},
   "source": [
    "### Data Cleaning"
   ]
  },
  {
   "cell_type": "code",
   "execution_count": 17,
   "metadata": {},
   "outputs": [
    {
     "data": {
      "text/plain": [
       "Data Year                  0\n",
       "Fuel Type Code             0\n",
       "Station Name               0\n",
       "City                       0\n",
       "State                      0\n",
       "ZIP                        0\n",
       "Groups With Access Code    1\n",
       "Latitude                   0\n",
       "Longitude                  0\n",
       "dtype: int64"
      ]
     },
     "execution_count": 17,
     "metadata": {},
     "output_type": "execute_result"
    }
   ],
   "source": [
    "df.isna().sum()"
   ]
  },
  {
   "cell_type": "markdown",
   "metadata": {},
   "source": [
    "There is only one nan value in \"Groups With Access Code\" column."
   ]
  },
  {
   "cell_type": "code",
   "execution_count": 18,
   "metadata": {},
   "outputs": [
    {
     "data": {
      "text/plain": [
       "Public                                                              11842\n",
       "Public - see hours                                                   6081\n",
       "Private                                                              2775\n",
       "Public - Call ahead                                                  2011\n",
       "Private access only                                                  1081\n",
       "Public - Credit card at all times                                     981\n",
       "Private - Government only                                             815\n",
       "Public - call ahead                                                   776\n",
       "Public - Card key at all times                                        772\n",
       "Private - government only                                             749\n",
       "Public - credit card at all times                                     561\n",
       "Public - Credit card after hours                                      450\n",
       "PLANNED - not yet accessible                                          437\n",
       "Public - credit card after hours                                      411\n",
       "Public - card key at all times                                        295\n",
       "PLANNED - not yet accessible (Public)                                 196\n",
       "PLANNED - not yet accessible (Public - Credit card at all times)      164\n",
       "Private - Fleet customers only                                        101\n",
       "PLANNED - not yet accessible (Private)                                 56\n",
       "Private - fleet customers only                                         44\n",
       "TEMPORARILY UNAVAILABLE (Public)                                       38\n",
       "Public - Card key after hours                                          26\n",
       "Public - card key after hours                                          26\n",
       "PLANNED - not yet accessible (Public - Card key at all times)          19\n",
       "TEMPORARILY UNAVAILABLE (Private - Government only)                    18\n",
       "TEMPORARILY UNAVAILABLE (Public - Call ahead)                          12\n",
       "TEMPORARILY UNAVAILABLE (Private)                                      10\n",
       "PLANNED - not yet accessible (Private - Government only)                8\n",
       "PLANNED - not yet accessible (Public - Call ahead)                      7\n",
       "TEMPORARILY UNAVAILABLE (Public - Credit card at all times)             7\n",
       "PLANNED - not yet accessible (Private - Fleet customers only)           7\n",
       "TEMPORARILY UNAVAILABLE (Public - Card key at all times)                4\n",
       "TEMPORARILY UNAVAILABLE (Public - Credit card after hours)              3\n",
       "Private Access Only                                                     2\n",
       "Private - Card key at all times                                         1\n",
       "Name: Groups With Access Code, dtype: int64"
      ]
     },
     "execution_count": 18,
     "metadata": {},
     "output_type": "execute_result"
    }
   ],
   "source": [
    "df['Groups With Access Code'].value_counts()"
   ]
  },
  {
   "cell_type": "markdown",
   "metadata": {},
   "source": [
    "There is only one nan value in \"Groups With Access Code\" column. As there are more number of Public access alternative fueling stations, replacing nan with Public."
   ]
  },
  {
   "cell_type": "code",
   "execution_count": 19,
   "metadata": {},
   "outputs": [],
   "source": [
    "df['Groups With Access Code'].fillna('Public', inplace=True)"
   ]
  },
  {
   "cell_type": "code",
   "execution_count": 20,
   "metadata": {},
   "outputs": [
    {
     "data": {
      "text/plain": [
       "Data Year                  0\n",
       "Fuel Type Code             0\n",
       "Station Name               0\n",
       "City                       0\n",
       "State                      0\n",
       "ZIP                        0\n",
       "Groups With Access Code    0\n",
       "Latitude                   0\n",
       "Longitude                  0\n",
       "dtype: int64"
      ]
     },
     "execution_count": 20,
     "metadata": {},
     "output_type": "execute_result"
    }
   ],
   "source": [
    "df.isna().sum()"
   ]
  },
  {
   "cell_type": "markdown",
   "metadata": {},
   "source": [
    "Categorizing the values in \"Groups With Access Code\" column into 3 categories (Public, Private, Planned). This will help to answer my questions."
   ]
  },
  {
   "cell_type": "code",
   "execution_count": 21,
   "metadata": {},
   "outputs": [],
   "source": [
    "#ref: https://stackoverflow.com/questions/30953299/pandas-if-row-in-column-a-contains-x-write-y-to-row-in-column-b\n",
    "\n",
    "df['Groups With Access Code'][df['Groups With Access Code'].str.contains('Public')] = 'Public'\n",
    "df['Groups With Access Code'][df['Groups With Access Code'].str.contains('Private')] = 'Private'"
   ]
  },
  {
   "cell_type": "code",
   "execution_count": 22,
   "metadata": {},
   "outputs": [],
   "source": [
    "df['Groups With Access Code'][df['Groups With Access Code'].str.contains('PLANNED')] = 'Planned'"
   ]
  },
  {
   "cell_type": "code",
   "execution_count": 23,
   "metadata": {},
   "outputs": [
    {
     "data": {
      "text/plain": [
       "Public     24683\n",
       "Private     5667\n",
       "Planned      437\n",
       "Name: Groups With Access Code, dtype: int64"
      ]
     },
     "execution_count": 23,
     "metadata": {},
     "output_type": "execute_result"
    }
   ],
   "source": [
    "df['Groups With Access Code'].value_counts()"
   ]
  },
  {
   "cell_type": "markdown",
   "metadata": {},
   "source": [
    "The data from 2012 csv file is as of April 4, 2012.\n",
    "\n",
    "In the 2014 csv file, the data is as of April 23, 2015. This means that there could be same data in both the input files.\n",
    "\n",
    "So I am removing duplicated rows based on all the columns except for the \"Year Data\".\n",
    "\n",
    "In between the years 2012 and 2014, there is possibiblty that a fuel station could have:\n",
    " - converted from one type of alternative fuel to another (example: LPG to ELEC)\n",
    " - changed its access type (example: Private to Public)\n",
    " \n",
    "I am not considering these rows as duplicates as they are valid."
   ]
  },
  {
   "cell_type": "code",
   "execution_count": 24,
   "metadata": {},
   "outputs": [],
   "source": [
    "#ref: https://stackoverflow.com/questions/55013957/pandas-removing-duplicates-based-on-selected-columns\n",
    "\n",
    "df1 = df.sort_values(by = ['Fuel Type Code', 'Station Name', 'City' , 'State', 'ZIP', 'Groups With Access Code', 'Latitude', 'Longitude']).drop_duplicates(subset=['Fuel Type Code', 'Station Name', 'City' , 'State', 'ZIP', 'Groups With Access Code', 'Latitude', 'Longitude'], keep='first')"
   ]
  },
  {
   "cell_type": "code",
   "execution_count": 25,
   "metadata": {},
   "outputs": [
    {
     "data": {
      "text/plain": [
       "(29454, 9)"
      ]
     },
     "execution_count": 25,
     "metadata": {},
     "output_type": "execute_result"
    }
   ],
   "source": [
    "df1.shape"
   ]
  },
  {
   "cell_type": "code",
   "execution_count": 26,
   "metadata": {},
   "outputs": [
    {
     "data": {
      "text/html": [
       "<div>\n",
       "<style scoped>\n",
       "    .dataframe tbody tr th:only-of-type {\n",
       "        vertical-align: middle;\n",
       "    }\n",
       "\n",
       "    .dataframe tbody tr th {\n",
       "        vertical-align: top;\n",
       "    }\n",
       "\n",
       "    .dataframe thead th {\n",
       "        text-align: right;\n",
       "    }\n",
       "</style>\n",
       "<table border=\"1\" class=\"dataframe\">\n",
       "  <thead>\n",
       "    <tr style=\"text-align: right;\">\n",
       "      <th></th>\n",
       "      <th>Data Year</th>\n",
       "      <th>Fuel Type Code</th>\n",
       "      <th>Station Name</th>\n",
       "      <th>City</th>\n",
       "      <th>State</th>\n",
       "      <th>ZIP</th>\n",
       "      <th>Groups With Access Code</th>\n",
       "      <th>Latitude</th>\n",
       "      <th>Longitude</th>\n",
       "    </tr>\n",
       "  </thead>\n",
       "  <tbody>\n",
       "    <tr>\n",
       "      <th>3873</th>\n",
       "      <td>2012</td>\n",
       "      <td>BD</td>\n",
       "      <td>76 Station - Niu Valley 7-Eleven</td>\n",
       "      <td>Honolulu</td>\n",
       "      <td>HI</td>\n",
       "      <td>96821</td>\n",
       "      <td>Public</td>\n",
       "      <td>21.282649</td>\n",
       "      <td>-157.735212</td>\n",
       "    </tr>\n",
       "    <tr>\n",
       "      <th>8228</th>\n",
       "      <td>2014</td>\n",
       "      <td>BD</td>\n",
       "      <td>76th Street Truck Stop - J&amp;H Family Stores</td>\n",
       "      <td>Byron Center</td>\n",
       "      <td>MI</td>\n",
       "      <td>49315</td>\n",
       "      <td>Public</td>\n",
       "      <td>42.825953</td>\n",
       "      <td>-85.674869</td>\n",
       "    </tr>\n",
       "    <tr>\n",
       "      <th>2112</th>\n",
       "      <td>2012</td>\n",
       "      <td>BD</td>\n",
       "      <td>A &amp; A Foodmart Chevron</td>\n",
       "      <td>Bellevue</td>\n",
       "      <td>WA</td>\n",
       "      <td>98007</td>\n",
       "      <td>Public</td>\n",
       "      <td>47.595611</td>\n",
       "      <td>-122.150162</td>\n",
       "    </tr>\n",
       "    <tr>\n",
       "      <th>11211</th>\n",
       "      <td>2014</td>\n",
       "      <td>BD</td>\n",
       "      <td>A&amp;M Oil Co</td>\n",
       "      <td>Taylorsville</td>\n",
       "      <td>KY</td>\n",
       "      <td>40071</td>\n",
       "      <td>Public</td>\n",
       "      <td>38.026660</td>\n",
       "      <td>-85.343274</td>\n",
       "    </tr>\n",
       "    <tr>\n",
       "      <th>6921</th>\n",
       "      <td>2012</td>\n",
       "      <td>BD</td>\n",
       "      <td>AG Plus</td>\n",
       "      <td>Fort Wayne</td>\n",
       "      <td>IN</td>\n",
       "      <td>46808</td>\n",
       "      <td>Public</td>\n",
       "      <td>41.120940</td>\n",
       "      <td>-85.157454</td>\n",
       "    </tr>\n",
       "  </tbody>\n",
       "</table>\n",
       "</div>"
      ],
      "text/plain": [
       "       Data Year Fuel Type Code                                Station Name  \\\n",
       "3873        2012             BD            76 Station - Niu Valley 7-Eleven   \n",
       "8228        2014             BD  76th Street Truck Stop - J&H Family Stores   \n",
       "2112        2012             BD                      A & A Foodmart Chevron   \n",
       "11211       2014             BD                                  A&M Oil Co   \n",
       "6921        2012             BD                                     AG Plus   \n",
       "\n",
       "               City State    ZIP Groups With Access Code   Latitude  \\\n",
       "3873       Honolulu    HI  96821                  Public  21.282649   \n",
       "8228   Byron Center    MI  49315                  Public  42.825953   \n",
       "2112       Bellevue    WA  98007                  Public  47.595611   \n",
       "11211  Taylorsville    KY  40071                  Public  38.026660   \n",
       "6921     Fort Wayne    IN  46808                  Public  41.120940   \n",
       "\n",
       "        Longitude  \n",
       "3873  -157.735212  \n",
       "8228   -85.674869  \n",
       "2112  -122.150162  \n",
       "11211  -85.343274  \n",
       "6921   -85.157454  "
      ]
     },
     "execution_count": 26,
     "metadata": {},
     "output_type": "execute_result"
    }
   ],
   "source": [
    "df1.head()"
   ]
  },
  {
   "cell_type": "code",
   "execution_count": 27,
   "metadata": {},
   "outputs": [
    {
     "data": {
      "text/html": [
       "<div>\n",
       "<style scoped>\n",
       "    .dataframe tbody tr th:only-of-type {\n",
       "        vertical-align: middle;\n",
       "    }\n",
       "\n",
       "    .dataframe tbody tr th {\n",
       "        vertical-align: top;\n",
       "    }\n",
       "\n",
       "    .dataframe thead th {\n",
       "        text-align: right;\n",
       "    }\n",
       "</style>\n",
       "<table border=\"1\" class=\"dataframe\">\n",
       "  <thead>\n",
       "    <tr style=\"text-align: right;\">\n",
       "      <th></th>\n",
       "      <th>Data Year</th>\n",
       "      <th>ZIP</th>\n",
       "      <th>Latitude</th>\n",
       "      <th>Longitude</th>\n",
       "    </tr>\n",
       "  </thead>\n",
       "  <tbody>\n",
       "    <tr>\n",
       "      <th>count</th>\n",
       "      <td>29454.000000</td>\n",
       "      <td>29454.000000</td>\n",
       "      <td>29454.000000</td>\n",
       "      <td>29454.000000</td>\n",
       "    </tr>\n",
       "    <tr>\n",
       "      <th>mean</th>\n",
       "      <td>2013.290555</td>\n",
       "      <td>58336.530658</td>\n",
       "      <td>38.053913</td>\n",
       "      <td>-96.162392</td>\n",
       "    </tr>\n",
       "    <tr>\n",
       "      <th>std</th>\n",
       "      <td>0.956875</td>\n",
       "      <td>29034.496846</td>\n",
       "      <td>5.200061</td>\n",
       "      <td>17.264140</td>\n",
       "    </tr>\n",
       "    <tr>\n",
       "      <th>min</th>\n",
       "      <td>2012.000000</td>\n",
       "      <td>1002.000000</td>\n",
       "      <td>19.609150</td>\n",
       "      <td>-159.475426</td>\n",
       "    </tr>\n",
       "    <tr>\n",
       "      <th>25%</th>\n",
       "      <td>2012.000000</td>\n",
       "      <td>33180.000000</td>\n",
       "      <td>34.053226</td>\n",
       "      <td>-112.099347</td>\n",
       "    </tr>\n",
       "    <tr>\n",
       "      <th>50%</th>\n",
       "      <td>2014.000000</td>\n",
       "      <td>58578.000000</td>\n",
       "      <td>38.643715</td>\n",
       "      <td>-92.321450</td>\n",
       "    </tr>\n",
       "    <tr>\n",
       "      <th>75%</th>\n",
       "      <td>2014.000000</td>\n",
       "      <td>85374.000000</td>\n",
       "      <td>41.864113</td>\n",
       "      <td>-82.730013</td>\n",
       "    </tr>\n",
       "    <tr>\n",
       "      <th>max</th>\n",
       "      <td>2014.000000</td>\n",
       "      <td>99929.000000</td>\n",
       "      <td>64.812235</td>\n",
       "      <td>-5.170103</td>\n",
       "    </tr>\n",
       "  </tbody>\n",
       "</table>\n",
       "</div>"
      ],
      "text/plain": [
       "          Data Year           ZIP      Latitude     Longitude\n",
       "count  29454.000000  29454.000000  29454.000000  29454.000000\n",
       "mean    2013.290555  58336.530658     38.053913    -96.162392\n",
       "std        0.956875  29034.496846      5.200061     17.264140\n",
       "min     2012.000000   1002.000000     19.609150   -159.475426\n",
       "25%     2012.000000  33180.000000     34.053226   -112.099347\n",
       "50%     2014.000000  58578.000000     38.643715    -92.321450\n",
       "75%     2014.000000  85374.000000     41.864113    -82.730013\n",
       "max     2014.000000  99929.000000     64.812235     -5.170103"
      ]
     },
     "execution_count": 27,
     "metadata": {},
     "output_type": "execute_result"
    }
   ],
   "source": [
    "#Checking data characteristics for columns with numerical values\n",
    "\n",
    "df1.describe()"
   ]
  },
  {
   "cell_type": "code",
   "execution_count": 28,
   "metadata": {},
   "outputs": [
    {
     "data": {
      "text/html": [
       "<div>\n",
       "<style scoped>\n",
       "    .dataframe tbody tr th:only-of-type {\n",
       "        vertical-align: middle;\n",
       "    }\n",
       "\n",
       "    .dataframe tbody tr th {\n",
       "        vertical-align: top;\n",
       "    }\n",
       "\n",
       "    .dataframe thead th {\n",
       "        text-align: right;\n",
       "    }\n",
       "</style>\n",
       "<table border=\"1\" class=\"dataframe\">\n",
       "  <thead>\n",
       "    <tr style=\"text-align: right;\">\n",
       "      <th></th>\n",
       "      <th>Fuel Type Code</th>\n",
       "      <th>Station Name</th>\n",
       "      <th>City</th>\n",
       "      <th>State</th>\n",
       "      <th>Groups With Access Code</th>\n",
       "    </tr>\n",
       "  </thead>\n",
       "  <tbody>\n",
       "    <tr>\n",
       "      <th>count</th>\n",
       "      <td>29454</td>\n",
       "      <td>29454</td>\n",
       "      <td>29454</td>\n",
       "      <td>29454</td>\n",
       "      <td>29454</td>\n",
       "    </tr>\n",
       "    <tr>\n",
       "      <th>unique</th>\n",
       "      <td>7</td>\n",
       "      <td>17075</td>\n",
       "      <td>5013</td>\n",
       "      <td>51</td>\n",
       "      <td>3</td>\n",
       "    </tr>\n",
       "    <tr>\n",
       "      <th>top</th>\n",
       "      <td>ELEC</td>\n",
       "      <td>U-Haul</td>\n",
       "      <td>Los Angeles</td>\n",
       "      <td>CA</td>\n",
       "      <td>Public</td>\n",
       "    </tr>\n",
       "    <tr>\n",
       "      <th>freq</th>\n",
       "      <td>14393</td>\n",
       "      <td>948</td>\n",
       "      <td>281</td>\n",
       "      <td>4667</td>\n",
       "      <td>23661</td>\n",
       "    </tr>\n",
       "  </tbody>\n",
       "</table>\n",
       "</div>"
      ],
      "text/plain": [
       "       Fuel Type Code Station Name         City  State Groups With Access Code\n",
       "count           29454        29454        29454  29454                   29454\n",
       "unique              7        17075         5013     51                       3\n",
       "top              ELEC       U-Haul  Los Angeles     CA                  Public\n",
       "freq            14393          948          281   4667                   23661"
      ]
     },
     "execution_count": 28,
     "metadata": {},
     "output_type": "execute_result"
    }
   ],
   "source": [
    "#Checking data characteristics for columns with non-numerical values\n",
    "\n",
    "df1.describe(include='object')"
   ]
  },
  {
   "cell_type": "markdown",
   "metadata": {},
   "source": [
    "### Hypothesis 1\n",
    "\n",
    "The total number of alternative fueling stations should have doubled.\n",
    "\n"
   ]
  },
  {
   "cell_type": "code",
   "execution_count": 29,
   "metadata": {
    "scrolled": false
   },
   "outputs": [
    {
     "data": {
      "image/png": "[encoded data removed]",
      "text/plain": [
       "<Figure size 720x432 with 1 Axes>"
      ]
     },
     "metadata": {
      "needs_background": "light"
     },
     "output_type": "display_data"
    }
   ],
   "source": [
    "year_order = df1['Data Year'].unique()\n",
    "year_order.sort()\n",
    "\n",
    "df1['Data Year'].value_counts().loc[year_order].plot.bar(grid=True, rot=0, figsize=(10,6))\n",
    "plt.xlabel('Year')\n",
    "plt.ylabel('Number of alternative fueling stations')\n",
    "plt.yticks([])\n",
    "for index,data in enumerate(df1['Data Year'].value_counts().loc[year_order]):\n",
    "    plt.text(x=index , y =data+1 , s=f\"{data}\" , fontdict=dict(fontsize=10))\n",
    "plt.title('Hypothesis 1: The total number of alternative fueling stations should have doubled over the years from 2012 to 2014')\n",
    "plt.tight_layout()"
   ]
  },
  {
   "cell_type": "markdown",
   "metadata": {},
   "source": [
    "The total number of alternative fueling stations over the years from 2012 to 2014 have increased from 10448 to 19006 which is almost 90% increase. \n",
    "\n",
    "So my hypothesis 1 is of true.\n",
    "\n",
    "I should also consider the fact that the data of the alternative fueling stations are only the ones that were reported. There might be other alternative fueling stations that were not reported."
   ]
  },
  {
   "cell_type": "markdown",
   "metadata": {},
   "source": [
    "### Hypothesis 2\n",
    "\n",
    "There should also be an increase of 50% in electric fueling stations and a decrease of 50% in CNG fueling stations.\n",
    "\n"
   ]
  },
  {
   "cell_type": "code",
   "execution_count": 30,
   "metadata": {},
   "outputs": [],
   "source": [
    "df2 = df1['Data Year'].groupby(df1['Fuel Type Code']).value_counts().unstack().fillna(0)"
   ]
  },
  {
   "cell_type": "code",
   "execution_count": 31,
   "metadata": {},
   "outputs": [
    {
     "data": {
      "text/html": [
       "<div>\n",
       "<style scoped>\n",
       "    .dataframe tbody tr th:only-of-type {\n",
       "        vertical-align: middle;\n",
       "    }\n",
       "\n",
       "    .dataframe tbody tr th {\n",
       "        vertical-align: top;\n",
       "    }\n",
       "\n",
       "    .dataframe thead th {\n",
       "        text-align: right;\n",
       "    }\n",
       "</style>\n",
       "<table border=\"1\" class=\"dataframe\">\n",
       "  <thead>\n",
       "    <tr style=\"text-align: right;\">\n",
       "      <th>Data Year</th>\n",
       "      <th>2012</th>\n",
       "      <th>2014</th>\n",
       "    </tr>\n",
       "    <tr>\n",
       "      <th>Fuel Type Code</th>\n",
       "      <th></th>\n",
       "      <th></th>\n",
       "    </tr>\n",
       "  </thead>\n",
       "  <tbody>\n",
       "    <tr>\n",
       "      <th>BD</th>\n",
       "      <td>655</td>\n",
       "      <td>667</td>\n",
       "    </tr>\n",
       "    <tr>\n",
       "      <th>CNG</th>\n",
       "      <td>1069</td>\n",
       "      <td>1681</td>\n",
       "    </tr>\n",
       "    <tr>\n",
       "      <th>E85</th>\n",
       "      <td>2533</td>\n",
       "      <td>2697</td>\n",
       "    </tr>\n",
       "    <tr>\n",
       "      <th>ELEC</th>\n",
       "      <td>3309</td>\n",
       "      <td>11084</td>\n",
       "    </tr>\n",
       "    <tr>\n",
       "      <th>HY</th>\n",
       "      <td>56</td>\n",
       "      <td>71</td>\n",
       "    </tr>\n",
       "    <tr>\n",
       "      <th>LNG</th>\n",
       "      <td>145</td>\n",
       "      <td>176</td>\n",
       "    </tr>\n",
       "    <tr>\n",
       "      <th>LPG</th>\n",
       "      <td>2681</td>\n",
       "      <td>2630</td>\n",
       "    </tr>\n",
       "  </tbody>\n",
       "</table>\n",
       "</div>"
      ],
      "text/plain": [
       "Data Year       2012   2014\n",
       "Fuel Type Code             \n",
       "BD               655    667\n",
       "CNG             1069   1681\n",
       "E85             2533   2697\n",
       "ELEC            3309  11084\n",
       "HY                56     71\n",
       "LNG              145    176\n",
       "LPG             2681   2630"
      ]
     },
     "execution_count": 31,
     "metadata": {},
     "output_type": "execute_result"
    }
   ],
   "source": [
    "df2"
   ]
  },
  {
   "cell_type": "code",
   "execution_count": 32,
   "metadata": {},
   "outputs": [
    {
     "data": {
      "text/plain": [
       "Text(0.5, 1.0, 'Hypothesis 2: There should also be an increase of 50% in electric fueling stations and a decrease of 50% in CNG fueling stations over the years from 2012 to 2014')"
      ]
     },
     "execution_count": 32,
     "metadata": {},
     "output_type": "execute_result"
    },
    {
     "data": {
      "image/png": "[encoded data removed]",
      "text/plain": [
       "<Figure size 1440x720 with 1 Axes>"
      ]
     },
     "metadata": {
      "needs_background": "light"
     },
     "output_type": "display_data"
    }
   ],
   "source": [
    "df2.plot.bar(rot=0, figsize=(20,10))\n",
    "plt.xlabel('Fuel Station Type')\n",
    "plt.ylabel('Number of alternative fueling stations')\n",
    "plt.title('Hypothesis 2: There should also be an increase of 50% in electric fueling stations and a decrease of 50% in CNG fueling stations over the years from 2012 to 2014')"
   ]
  },
  {
   "cell_type": "markdown",
   "metadata": {},
   "source": [
    "There is increase both electric and CNG fueling station over the years from 2012 to 2014.\n",
    "\n",
    "So my hypothesis 2 is partially true.\n",
    "\n",
    "I should also consider the fact that the data of the alternative fueling stations are only the ones that were reported. There might be other alternative fueling stations that were not reported."
   ]
  },
  {
   "cell_type": "markdown",
   "metadata": {},
   "source": [
    "### Question 1\n",
    "\n",
    "Which states are having the highest alternative fueling stations?"
   ]
  },
  {
   "cell_type": "code",
   "execution_count": 33,
   "metadata": {},
   "outputs": [],
   "source": [
    "df3 = df1['Data Year'].groupby(df1['State']).value_counts().unstack().fillna(0)"
   ]
  },
  {
   "cell_type": "code",
   "execution_count": 34,
   "metadata": {},
   "outputs": [],
   "source": [
    "#df3"
   ]
  },
  {
   "cell_type": "code",
   "execution_count": 35,
   "metadata": {},
   "outputs": [
    {
     "data": {
      "text/plain": [
       "Text(0.5, 1.0, 'Question 1: Which states are having the highest alternative fueling stations?')"
      ]
     },
     "execution_count": 35,
     "metadata": {},
     "output_type": "execute_result"
    },
    {
     "data": {
      "image/png": "[encoded data removed]",
      "text/plain": [
       "<Figure size 1440x720 with 1 Axes>"
      ]
     },
     "metadata": {
      "needs_background": "light"
     },
     "output_type": "display_data"
    }
   ],
   "source": [
    "df3.plot.bar(stacked = True, rot=0, figsize=(20,10))\n",
    "plt.xlabel('State')\n",
    "plt.ylabel('Number of alternative fueling stations')\n",
    "plt.title('Question 1: Which states are having the highest alternative fueling stations?')"
   ]
  },
  {
   "cell_type": "markdown",
   "metadata": {},
   "source": [
    "California has the highest number of alternative fueling stations and Texas has the second highest alternative fueling stations."
   ]
  },
  {
   "cell_type": "markdown",
   "metadata": {},
   "source": [
    "### Question 2\n",
    "\n",
    "What is the trend in the alternative fueling stations? Are the private stations increasing or the public stations?"
   ]
  },
  {
   "cell_type": "code",
   "execution_count": 36,
   "metadata": {},
   "outputs": [],
   "source": [
    "df4 = df1['Data Year'].groupby(df1['Groups With Access Code']).value_counts().unstack().fillna(0)"
   ]
  },
  {
   "cell_type": "code",
   "execution_count": 37,
   "metadata": {},
   "outputs": [],
   "source": [
    "#df4"
   ]
  },
  {
   "cell_type": "code",
   "execution_count": 38,
   "metadata": {},
   "outputs": [
    {
     "data": {
      "text/plain": [
       "Text(0.5, 1.0, 'Question 2: What is the trend in the alternative fueling stations? Are the private stations increasing or the public stations? over the years from 2012 to 2014')"
      ]
     },
     "execution_count": 38,
     "metadata": {},
     "output_type": "execute_result"
    },
    {
     "data": {
      "image/png": "[encoded data removed]",
      "text/plain": [
       "<Figure size 1440x720 with 1 Axes>"
      ]
     },
     "metadata": {
      "needs_background": "light"
     },
     "output_type": "display_data"
    }
   ],
   "source": [
    "df4.plot.bar(rot=0, figsize=(20,10))\n",
    "plt.xlabel('Fuel Station Access Type')\n",
    "plt.ylabel('Number of alternative fueling stations')\n",
    "plt.title('Question 2: What is the trend in the alternative fueling stations? Are the private stations increasing or the public stations? over the years from 2012 to 2014')"
   ]
  },
  {
   "cell_type": "markdown",
   "metadata": {},
   "source": [
    "Both Private and Public alternative fueling stations have increased over the years from 2012 to 2014."
   ]
  },
  {
   "cell_type": "markdown",
   "metadata": {},
   "source": [
    "### Conclusion Story\n",
    "\n",
    "There is significantly a very high increase in alternative fueling stations across the US. This means that people are converting to alternative fuels. Especially there are many electric fueling stations, which means that there are many electric vehicle users.\n",
    "\n",
    "In this project, I have how to plot value counts from two different columns in a single graph."
   ]
  },
  {
   "cell_type": "code",
   "execution_count": 39,
   "metadata": {},
   "outputs": [
    {
     "name": "stdout",
     "output_type": "stream",
     "text": [
      "0.11505158344904581 minutes\n",
      "6.904046535491943 seconds\n"
     ]
    }
   ],
   "source": [
    "#Total run time\n",
    "\n",
    "print((time.time() - start_time)/60,'minutes')\n",
    "print(time.time() - start_time,'seconds')"
   ]
  }
 ],
 "metadata": {
  "kernelspec": {
   "display_name": "Python 3",
   "language": "python",
   "name": "python3"
  },
  "language_info": {
   "codemirror_mode": {
    "name": "ipython",
    "version": 3
   },
   "file_extension": ".py",
   "mimetype": "text/x-python",
   "name": "python",
   "nbconvert_exporter": "python",
   "pygments_lexer": "ipython3",
   "version": "3.7.4"
  }
 },
 "nbformat": 4,
 "nbformat_minor": 2
}
