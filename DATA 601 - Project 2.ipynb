{
 "cells": [
  {
   "cell_type": "markdown",
   "metadata": {},
   "source": [
    "## DATA 601 - Project 2 - Solar Electric Programs Reported by NYSERDA: Beginning 2000\n",
    "\n",
    "Dataset Name:  Solar Electric Programs Reported by NYSERDA: Beginning 2000\n",
    "\n",
    "Description: https://data.ny.gov/Energy-Environment/Solar-Electric-Programs-Reported-by-NYSERDA-Beginn/3x8r-34rs\n",
    "\n",
    "CSV link:   https://data.ny.gov/api/views/3x8r-34rs/rows.csv?accessType=DOWNLOAD\n",
    "\n",
    "Rows: 105,337 + 1 header\n",
    "\n",
    "Columns: 30\n",
    "\n",
    "Size: 33.9 MB\n",
    "\n",
    "Cost: Free\n",
    "\n",
    "It has more than 2 data types.\n",
    "\n",
    "I found this dataset on  https://www.data.gov website. I had searched for the keywords \"solar power generation csv\" in Google and this was the first website that came up.\n",
    "\n",
    "The dataset has records for solar projects that were set up in New York. I have no prior training in the data. I chose this dataset as this was the only one dataset that met the requirements and I was able to interpret some meaning out of it.\n",
    "\n",
    "\n",
    "### Hypotheses 1\n",
    "The data has two date columns \"Date Application Received\" and \"Date Completed\", which provide the start and end date of the solar projects.\n",
    "\n",
    "The dataset has solar project records from 2000 to 2019. This would be the time span. The data for 2020 would not be considered as the complete data is not available. Looking at the dataset the number of solar projects should have increased by 5000 times over the years from 2000 to 2019.\n",
    "\n",
    "#### YES\n",
    "\n",
    "\n",
    "### Hypotheses 2\n",
    "I could use the \"Total Nameplate kW DC\" and \"Project Cost\" to calculate the cost of the project per kilowatt (kW) produce over the years from 2000 to 2019. The cost should have reduced by more than 50%.\n",
    "\n",
    "#### YES"
   ]
  },
  {
   "cell_type": "code",
   "execution_count": 1,
   "metadata": {},
   "outputs": [
    {
     "name": "stdout",
     "output_type": "stream",
     "text": [
      "Pandas 0.25.1\n",
      "sns 0.9.0\n"
     ]
    }
   ],
   "source": [
    "#Intializing libraries\n",
    "\n",
    "import time\n",
    "import datetime\n",
    "import matplotlib.pyplot as plt\n",
    "from pandas.plotting import lag_plot\n",
    "from pandas.plotting import register_matplotlib_converters\n",
    "register_matplotlib_converters()\n",
    "import pandas as pd\n",
    "import numpy as np\n",
    "print('Pandas',pd.__version__)\n",
    "import seaborn as sns\n",
    "print('sns',sns.__version__)"
   ]
  },
  {
   "cell_type": "code",
   "execution_count": 2,
   "metadata": {},
   "outputs": [],
   "source": [
    "#Reading CSV\n",
    "\n",
    "start_time = time.time()\n",
    "df = pd.read_csv(\"https://data.ny.gov/api/views/3x8r-34rs/rows.csv?accessType=DOWNLOAD\", low_memory=False)\n",
    "pd.set_option(\"display.max_rows\", 999)\n",
    "pd.set_option(\"display.max_columns\", 999)"
   ]
  },
  {
   "cell_type": "code",
   "execution_count": 3,
   "metadata": {},
   "outputs": [
    {
     "data": {
      "text/plain": [
       "(105337, 30)"
      ]
     },
     "execution_count": 3,
     "metadata": {},
     "output_type": "execute_result"
    }
   ],
   "source": [
    "#Dataframe Shape\n",
    "\n",
    "df.shape"
   ]
  },
  {
   "cell_type": "code",
   "execution_count": 4,
   "metadata": {},
   "outputs": [
    {
     "name": "stdout",
     "output_type": "stream",
     "text": [
      "<class 'pandas.core.frame.DataFrame'>\n",
      "RangeIndex: 105337 entries, 0 to 105336\n",
      "Data columns (total 30 columns):\n",
      "Reporting Period                         105337 non-null object\n",
      "Project Number                           105337 non-null object\n",
      "City                                     105337 non-null object\n",
      "County                                   105337 non-null object\n",
      "State                                    105337 non-null object\n",
      "Zip Code                                 105337 non-null int64\n",
      "Sector                                   105337 non-null object\n",
      "Program Type                             105337 non-null object\n",
      "Solicitation                             105337 non-null object\n",
      "Electric Utility                         105337 non-null object\n",
      "Purchase Type                            100228 non-null object\n",
      "Date Application Received                105337 non-null object\n",
      "Date Completed                           101418 non-null object\n",
      "Project Status                           105337 non-null object\n",
      "Contractor                               97844 non-null object\n",
      "Primary Inverter Manufacturer            101353 non-null object\n",
      "Primary Inverter Model Number            92502 non-null object\n",
      "Total Inverter Quantity                  101267 non-null float64\n",
      "Primary PV Module Manufacturer           101406 non-null object\n",
      "PV Module Model Number                   92492 non-null object\n",
      "Total PV Module Quantity                 101292 non-null float64\n",
      "Project Cost                             105153 non-null float64\n",
      "$Incentive                               105271 non-null float64\n",
      "Total Nameplate kW DC                    105337 non-null float64\n",
      "Expected KWh Annual Production           105337 non-null float64\n",
      "Remote Net Metering                      44973 non-null object\n",
      "Affordable Solar                         105337 non-null object\n",
      "Community Distributed Generation         105337 non-null object\n",
      "Green Jobs Green New York Participant    8653 non-null object\n",
      "Location 1                               105316 non-null object\n",
      "dtypes: float64(6), int64(1), object(23)\n",
      "memory usage: 24.1+ MB\n"
     ]
    }
   ],
   "source": [
    "#Full summary of the dataframe to know the data types of each column\n",
    "\n",
    "df.info()"
   ]
  },
  {
   "cell_type": "code",
   "execution_count": 5,
   "metadata": {},
   "outputs": [
    {
     "data": {
      "text/html": [
       "<div>\n",
       "<style scoped>\n",
       "    .dataframe tbody tr th:only-of-type {\n",
       "        vertical-align: middle;\n",
       "    }\n",
       "\n",
       "    .dataframe tbody tr th {\n",
       "        vertical-align: top;\n",
       "    }\n",
       "\n",
       "    .dataframe thead th {\n",
       "        text-align: right;\n",
       "    }\n",
       "</style>\n",
       "<table border=\"1\" class=\"dataframe\">\n",
       "  <thead>\n",
       "    <tr style=\"text-align: right;\">\n",
       "      <th></th>\n",
       "      <th>Reporting Period</th>\n",
       "      <th>Project Number</th>\n",
       "      <th>City</th>\n",
       "      <th>County</th>\n",
       "      <th>State</th>\n",
       "      <th>Zip Code</th>\n",
       "      <th>Sector</th>\n",
       "      <th>Program Type</th>\n",
       "      <th>Solicitation</th>\n",
       "      <th>Electric Utility</th>\n",
       "      <th>Purchase Type</th>\n",
       "      <th>Date Application Received</th>\n",
       "      <th>Date Completed</th>\n",
       "      <th>Project Status</th>\n",
       "      <th>Contractor</th>\n",
       "      <th>Primary Inverter Manufacturer</th>\n",
       "      <th>Primary Inverter Model Number</th>\n",
       "      <th>Total Inverter Quantity</th>\n",
       "      <th>Primary PV Module Manufacturer</th>\n",
       "      <th>PV Module Model Number</th>\n",
       "      <th>Total PV Module Quantity</th>\n",
       "      <th>Project Cost</th>\n",
       "      <th>$Incentive</th>\n",
       "      <th>Total Nameplate kW DC</th>\n",
       "      <th>Expected KWh Annual Production</th>\n",
       "      <th>Remote Net Metering</th>\n",
       "      <th>Affordable Solar</th>\n",
       "      <th>Community Distributed Generation</th>\n",
       "      <th>Green Jobs Green New York Participant</th>\n",
       "      <th>Location 1</th>\n",
       "    </tr>\n",
       "  </thead>\n",
       "  <tbody>\n",
       "    <tr>\n",
       "      <td>0</td>\n",
       "      <td>02/29/2020</td>\n",
       "      <td>4154-0227-Financing</td>\n",
       "      <td>Medford</td>\n",
       "      <td>Suffolk</td>\n",
       "      <td>NY</td>\n",
       "      <td>11763</td>\n",
       "      <td>Residential</td>\n",
       "      <td>Residential/Small Commercial</td>\n",
       "      <td>PON 2112LI</td>\n",
       "      <td>PSEG Long Island</td>\n",
       "      <td>Purchase</td>\n",
       "      <td>07/11/2016</td>\n",
       "      <td>09/29/2016</td>\n",
       "      <td>Complete</td>\n",
       "      <td>Green Logic LLC</td>\n",
       "      <td>SMA America</td>\n",
       "      <td>SB5000TL-US-22 (240V)</td>\n",
       "      <td>2.0</td>\n",
       "      <td>SunPower</td>\n",
       "      <td>SPR-E20-327</td>\n",
       "      <td>39.0</td>\n",
       "      <td>49146.0</td>\n",
       "      <td>0.0</td>\n",
       "      <td>12.75</td>\n",
       "      <td>14970.0</td>\n",
       "      <td>No</td>\n",
       "      <td>No</td>\n",
       "      <td>No</td>\n",
       "      <td>Residential</td>\n",
       "      <td>Medford, NY 11763\\n(40.822436, -72.982416)</td>\n",
       "    </tr>\n",
       "    <tr>\n",
       "      <td>1</td>\n",
       "      <td>02/29/2020</td>\n",
       "      <td>4473-101564</td>\n",
       "      <td>Malden On Hudson</td>\n",
       "      <td>Ulster</td>\n",
       "      <td>NY</td>\n",
       "      <td>12453</td>\n",
       "      <td>Residential</td>\n",
       "      <td>Residential/Small Commercial</td>\n",
       "      <td>PON 2112</td>\n",
       "      <td>Central Hudson Gas and Electric</td>\n",
       "      <td>Purchase</td>\n",
       "      <td>07/26/2016</td>\n",
       "      <td>09/26/2016</td>\n",
       "      <td>Complete</td>\n",
       "      <td>Lighthouse Solar (dba for Sun Source Technolog...</td>\n",
       "      <td>SolarEdge Technologies</td>\n",
       "      <td>SE3000 (240V) w/ -ER-US or A-US</td>\n",
       "      <td>1.0</td>\n",
       "      <td>LG Electronics Solar Cell Division</td>\n",
       "      <td>LG315N1C-G4</td>\n",
       "      <td>8.0</td>\n",
       "      <td>8934.0</td>\n",
       "      <td>2016.0</td>\n",
       "      <td>2.52</td>\n",
       "      <td>2958.0</td>\n",
       "      <td>No</td>\n",
       "      <td>Yes</td>\n",
       "      <td>No</td>\n",
       "      <td>NaN</td>\n",
       "      <td>Malden On Hudson, NY 12453\\n(42.096667, -73.93...</td>\n",
       "    </tr>\n",
       "    <tr>\n",
       "      <td>2</td>\n",
       "      <td>02/29/2020</td>\n",
       "      <td>4116-35833</td>\n",
       "      <td>Clarence</td>\n",
       "      <td>Erie</td>\n",
       "      <td>NY</td>\n",
       "      <td>14031</td>\n",
       "      <td>Residential</td>\n",
       "      <td>Residential/Small Commercial</td>\n",
       "      <td>PON 2112</td>\n",
       "      <td>National Grid</td>\n",
       "      <td>Purchase</td>\n",
       "      <td>10/29/2013</td>\n",
       "      <td>06/13/2014</td>\n",
       "      <td>Complete</td>\n",
       "      <td>Solar Liberty Energy Systems, Inc.</td>\n",
       "      <td>SunPower</td>\n",
       "      <td>SPR-5000m (240V)</td>\n",
       "      <td>2.0</td>\n",
       "      <td>SunPower</td>\n",
       "      <td>SPR-X20-250-BLK</td>\n",
       "      <td>40.0</td>\n",
       "      <td>41000.0</td>\n",
       "      <td>13000.0</td>\n",
       "      <td>10.00</td>\n",
       "      <td>11738.0</td>\n",
       "      <td>No</td>\n",
       "      <td>No</td>\n",
       "      <td>No</td>\n",
       "      <td>NaN</td>\n",
       "      <td>Clarence, NY 14031\\n(42.984386, -78.614969)</td>\n",
       "    </tr>\n",
       "    <tr>\n",
       "      <td>3</td>\n",
       "      <td>02/29/2020</td>\n",
       "      <td>4116-48134</td>\n",
       "      <td>Lockport</td>\n",
       "      <td>Niagara</td>\n",
       "      <td>NY</td>\n",
       "      <td>14094</td>\n",
       "      <td>Residential</td>\n",
       "      <td>Residential/Small Commercial</td>\n",
       "      <td>PON 2112</td>\n",
       "      <td>National Grid</td>\n",
       "      <td>Purchase</td>\n",
       "      <td>09/18/2014</td>\n",
       "      <td>06/22/2015</td>\n",
       "      <td>Complete</td>\n",
       "      <td>Solar Liberty Energy Systems, Inc.</td>\n",
       "      <td>SolarEdge Technologies</td>\n",
       "      <td>SE7600 (240V)</td>\n",
       "      <td>1.0</td>\n",
       "      <td>LG Electronics Solar Cell Division</td>\n",
       "      <td>LG300A1C-B3</td>\n",
       "      <td>31.0</td>\n",
       "      <td>31806.0</td>\n",
       "      <td>9300.0</td>\n",
       "      <td>9.30</td>\n",
       "      <td>10917.0</td>\n",
       "      <td>No</td>\n",
       "      <td>No</td>\n",
       "      <td>No</td>\n",
       "      <td>NaN</td>\n",
       "      <td>Lockport, NY 14094\\n(43.157671, -78.693851)</td>\n",
       "    </tr>\n",
       "    <tr>\n",
       "      <td>4</td>\n",
       "      <td>02/29/2020</td>\n",
       "      <td>4116-079</td>\n",
       "      <td>Syracuse</td>\n",
       "      <td>Onondaga</td>\n",
       "      <td>NY</td>\n",
       "      <td>13202</td>\n",
       "      <td>Non-Residential</td>\n",
       "      <td>Residential/Small Commercial</td>\n",
       "      <td>PON 1050</td>\n",
       "      <td>National Grid</td>\n",
       "      <td>NaN</td>\n",
       "      <td>02/27/2009</td>\n",
       "      <td>05/20/2010</td>\n",
       "      <td>Complete</td>\n",
       "      <td>Solar Liberty Energy Systems, Inc.</td>\n",
       "      <td>Solectria Renewables</td>\n",
       "      <td>PVI13kW-208</td>\n",
       "      <td>1.0</td>\n",
       "      <td>SunPower</td>\n",
       "      <td>SPR-230-WHT-U</td>\n",
       "      <td>49.0</td>\n",
       "      <td>72166.0</td>\n",
       "      <td>56350.0</td>\n",
       "      <td>11.27</td>\n",
       "      <td>13229.0</td>\n",
       "      <td>NaN</td>\n",
       "      <td>No</td>\n",
       "      <td>No</td>\n",
       "      <td>NaN</td>\n",
       "      <td>Syracuse, NY 13202\\n(43.044681, -76.15034)</td>\n",
       "    </tr>\n",
       "  </tbody>\n",
       "</table>\n",
       "</div>"
      ],
      "text/plain": [
       "  Reporting Period       Project Number              City    County State  \\\n",
       "0       02/29/2020  4154-0227-Financing           Medford   Suffolk    NY   \n",
       "1       02/29/2020          4473-101564  Malden On Hudson    Ulster    NY   \n",
       "2       02/29/2020           4116-35833          Clarence      Erie    NY   \n",
       "3       02/29/2020           4116-48134          Lockport   Niagara    NY   \n",
       "4       02/29/2020             4116-079          Syracuse  Onondaga    NY   \n",
       "\n",
       "   Zip Code           Sector                  Program Type Solicitation  \\\n",
       "0     11763      Residential  Residential/Small Commercial   PON 2112LI   \n",
       "1     12453      Residential  Residential/Small Commercial     PON 2112   \n",
       "2     14031      Residential  Residential/Small Commercial     PON 2112   \n",
       "3     14094      Residential  Residential/Small Commercial     PON 2112   \n",
       "4     13202  Non-Residential  Residential/Small Commercial     PON 1050   \n",
       "\n",
       "                  Electric Utility Purchase Type Date Application Received  \\\n",
       "0                 PSEG Long Island      Purchase                07/11/2016   \n",
       "1  Central Hudson Gas and Electric      Purchase                07/26/2016   \n",
       "2                    National Grid      Purchase                10/29/2013   \n",
       "3                    National Grid      Purchase                09/18/2014   \n",
       "4                    National Grid           NaN                02/27/2009   \n",
       "\n",
       "  Date Completed Project Status  \\\n",
       "0     09/29/2016       Complete   \n",
       "1     09/26/2016       Complete   \n",
       "2     06/13/2014       Complete   \n",
       "3     06/22/2015       Complete   \n",
       "4     05/20/2010       Complete   \n",
       "\n",
       "                                          Contractor  \\\n",
       "0                                    Green Logic LLC   \n",
       "1  Lighthouse Solar (dba for Sun Source Technolog...   \n",
       "2                 Solar Liberty Energy Systems, Inc.   \n",
       "3                 Solar Liberty Energy Systems, Inc.   \n",
       "4                 Solar Liberty Energy Systems, Inc.   \n",
       "\n",
       "  Primary Inverter Manufacturer    Primary Inverter Model Number  \\\n",
       "0                   SMA America            SB5000TL-US-22 (240V)   \n",
       "1        SolarEdge Technologies  SE3000 (240V) w/ -ER-US or A-US   \n",
       "2                      SunPower                 SPR-5000m (240V)   \n",
       "3        SolarEdge Technologies                    SE7600 (240V)   \n",
       "4          Solectria Renewables                      PVI13kW-208   \n",
       "\n",
       "   Total Inverter Quantity      Primary PV Module Manufacturer  \\\n",
       "0                      2.0                            SunPower   \n",
       "1                      1.0  LG Electronics Solar Cell Division   \n",
       "2                      2.0                            SunPower   \n",
       "3                      1.0  LG Electronics Solar Cell Division   \n",
       "4                      1.0                            SunPower   \n",
       "\n",
       "  PV Module Model Number  Total PV Module Quantity  Project Cost  $Incentive  \\\n",
       "0            SPR-E20-327                      39.0       49146.0         0.0   \n",
       "1            LG315N1C-G4                       8.0        8934.0      2016.0   \n",
       "2        SPR-X20-250-BLK                      40.0       41000.0     13000.0   \n",
       "3            LG300A1C-B3                      31.0       31806.0      9300.0   \n",
       "4          SPR-230-WHT-U                      49.0       72166.0     56350.0   \n",
       "\n",
       "   Total Nameplate kW DC  Expected KWh Annual Production Remote Net Metering  \\\n",
       "0                  12.75                         14970.0                  No   \n",
       "1                   2.52                          2958.0                  No   \n",
       "2                  10.00                         11738.0                  No   \n",
       "3                   9.30                         10917.0                  No   \n",
       "4                  11.27                         13229.0                 NaN   \n",
       "\n",
       "  Affordable Solar Community Distributed Generation  \\\n",
       "0               No                               No   \n",
       "1              Yes                               No   \n",
       "2               No                               No   \n",
       "3               No                               No   \n",
       "4               No                               No   \n",
       "\n",
       "  Green Jobs Green New York Participant  \\\n",
       "0                           Residential   \n",
       "1                                   NaN   \n",
       "2                                   NaN   \n",
       "3                                   NaN   \n",
       "4                                   NaN   \n",
       "\n",
       "                                          Location 1  \n",
       "0         Medford, NY 11763\\n(40.822436, -72.982416)  \n",
       "1  Malden On Hudson, NY 12453\\n(42.096667, -73.93...  \n",
       "2        Clarence, NY 14031\\n(42.984386, -78.614969)  \n",
       "3        Lockport, NY 14094\\n(43.157671, -78.693851)  \n",
       "4         Syracuse, NY 13202\\n(43.044681, -76.15034)  "
      ]
     },
     "execution_count": 5,
     "metadata": {},
     "output_type": "execute_result"
    }
   ],
   "source": [
    "#First 5 rows\n",
    "\n",
    "df.head()"
   ]
  },
  {
   "cell_type": "code",
   "execution_count": 6,
   "metadata": {},
   "outputs": [],
   "source": [
    "#Last 5 rows\n",
    "\n",
    "#df.tail()"
   ]
  },
  {
   "cell_type": "code",
   "execution_count": 7,
   "metadata": {},
   "outputs": [
    {
     "data": {
      "text/plain": [
       "Reporting Period                             0\n",
       "Project Number                               0\n",
       "City                                         0\n",
       "County                                       0\n",
       "State                                        0\n",
       "Zip Code                                     0\n",
       "Sector                                       0\n",
       "Program Type                                 0\n",
       "Solicitation                                 0\n",
       "Electric Utility                             0\n",
       "Purchase Type                             5109\n",
       "Date Application Received                    0\n",
       "Date Completed                            3919\n",
       "Project Status                               0\n",
       "Contractor                                7493\n",
       "Primary Inverter Manufacturer             3984\n",
       "Primary Inverter Model Number            12835\n",
       "Total Inverter Quantity                   4070\n",
       "Primary PV Module Manufacturer            3931\n",
       "PV Module Model Number                   12845\n",
       "Total PV Module Quantity                  4045\n",
       "Project Cost                               184\n",
       "$Incentive                                  66\n",
       "Total Nameplate kW DC                        0\n",
       "Expected KWh Annual Production               0\n",
       "Remote Net Metering                      60364\n",
       "Affordable Solar                             0\n",
       "Community Distributed Generation             0\n",
       "Green Jobs Green New York Participant    96684\n",
       "Location 1                                  21\n",
       "dtype: int64"
      ]
     },
     "execution_count": 7,
     "metadata": {},
     "output_type": "execute_result"
    }
   ],
   "source": [
    "#Columns with nan values\n",
    "\n",
    "df.isna().sum()"
   ]
  },
  {
   "cell_type": "markdown",
   "metadata": {},
   "source": [
    "## Data Cleaning\n",
    "\n",
    "To prove my hypothesis I require data from \"Date Application Received\" column for hypothesis 1 and data from \"Total Nameplate kW DC\" and \"Project Cost\" columns for hypothesis 2.\n",
    "\n",
    "I would be converting the \"Date Application Received\" column to date format and store it in \"Date_Application_Received\" coulmn. There are no nan values in this column, so no cleaning is required.\n",
    "\n",
    "I would calculate the cost each project to produce one kW of Direct Current (DC) by dividing data in \"Project Cost\" by \"Total Nameplate kW DC\". There are 184 nan values in \"Project Cost\" so there will be 184 nan values in \"Project_Cost_per_kW_DC\" coulmn."
   ]
  },
  {
   "cell_type": "code",
   "execution_count": 8,
   "metadata": {},
   "outputs": [],
   "source": [
    "#Changing the date column into date format and moving it into a new column\n",
    "\n",
    "#ref: https://stackoverflow.com/questions/26763344/convert-pandas-column-to-datetime\n",
    "\n",
    "df['Date_Application_Received'] = df['Date Application Received'].apply(pd.to_datetime)"
   ]
  },
  {
   "cell_type": "code",
   "execution_count": 9,
   "metadata": {},
   "outputs": [],
   "source": [
    "#Adding a new column for cost of each project to produce 1 kW of DC.\n",
    "#I am normalizing the data here\n",
    "\n",
    "df['Project_Cost_per_kW_DC'] = df['Project Cost']/df['Total Nameplate kW DC']"
   ]
  },
  {
   "cell_type": "code",
   "execution_count": 10,
   "metadata": {},
   "outputs": [],
   "source": [
    "#Removing the data for the year 2020. The data for the year 2020 is not complete to consider for the hypothesis.\n",
    "\n",
    "#ref: https://stackoverflow.com/questions/58867452/drop-rows-from-pandas-dataframe-according-to-date\n",
    "#ref: https://stackoverflow.com/questions/36104500/pandas-filtering-and-comparing-dates\n",
    "\n",
    "df = df[df['Date_Application_Received'] < pd.Timestamp(2020, 1, 1)]"
   ]
  },
  {
   "cell_type": "code",
   "execution_count": 11,
   "metadata": {},
   "outputs": [
    {
     "name": "stdout",
     "output_type": "stream",
     "text": [
      "<class 'pandas.core.frame.DataFrame'>\n",
      "Int64Index: 103595 entries, 0 to 105336\n",
      "Data columns (total 32 columns):\n",
      "Reporting Period                         103595 non-null object\n",
      "Project Number                           103595 non-null object\n",
      "City                                     103595 non-null object\n",
      "County                                   103595 non-null object\n",
      "State                                    103595 non-null object\n",
      "Zip Code                                 103595 non-null int64\n",
      "Sector                                   103595 non-null object\n",
      "Program Type                             103595 non-null object\n",
      "Solicitation                             103595 non-null object\n",
      "Electric Utility                         103595 non-null object\n",
      "Purchase Type                            98486 non-null object\n",
      "Date Application Received                103595 non-null object\n",
      "Date Completed                           101181 non-null object\n",
      "Project Status                           103595 non-null object\n",
      "Contractor                               97547 non-null object\n",
      "Primary Inverter Manufacturer            99611 non-null object\n",
      "Primary Inverter Model Number            90760 non-null object\n",
      "Total Inverter Quantity                  99525 non-null float64\n",
      "Primary PV Module Manufacturer           99664 non-null object\n",
      "PV Module Model Number                   90752 non-null object\n",
      "Total PV Module Quantity                 99550 non-null float64\n",
      "Project Cost                             103411 non-null float64\n",
      "$Incentive                               103529 non-null float64\n",
      "Total Nameplate kW DC                    103595 non-null float64\n",
      "Expected KWh Annual Production           103595 non-null float64\n",
      "Remote Net Metering                      44971 non-null object\n",
      "Affordable Solar                         103595 non-null object\n",
      "Community Distributed Generation         103595 non-null object\n",
      "Green Jobs Green New York Participant    8605 non-null object\n",
      "Location 1                               103574 non-null object\n",
      "Date_Application_Received                103595 non-null datetime64[ns]\n",
      "Project_Cost_per_kW_DC                   103411 non-null float64\n",
      "dtypes: datetime64[ns](1), float64(7), int64(1), object(23)\n",
      "memory usage: 26.1+ MB\n"
     ]
    }
   ],
   "source": [
    "#I have added 2 new columns \"Date_Application_Received\" and \"Project_Cost_per_kW_DC\"\n",
    "\n",
    "df.info()"
   ]
  },
  {
   "cell_type": "code",
   "execution_count": 12,
   "metadata": {},
   "outputs": [
    {
     "data": {
      "text/html": [
       "<div>\n",
       "<style scoped>\n",
       "    .dataframe tbody tr th:only-of-type {\n",
       "        vertical-align: middle;\n",
       "    }\n",
       "\n",
       "    .dataframe tbody tr th {\n",
       "        vertical-align: top;\n",
       "    }\n",
       "\n",
       "    .dataframe thead th {\n",
       "        text-align: right;\n",
       "    }\n",
       "</style>\n",
       "<table border=\"1\" class=\"dataframe\">\n",
       "  <thead>\n",
       "    <tr style=\"text-align: right;\">\n",
       "      <th></th>\n",
       "      <th>Date_Application_Received</th>\n",
       "      <th>Project_Cost_per_kW_DC</th>\n",
       "    </tr>\n",
       "  </thead>\n",
       "  <tbody>\n",
       "    <tr>\n",
       "      <td>0</td>\n",
       "      <td>2016-07-11</td>\n",
       "      <td>3854.588235</td>\n",
       "    </tr>\n",
       "    <tr>\n",
       "      <td>1</td>\n",
       "      <td>2016-07-26</td>\n",
       "      <td>3545.238095</td>\n",
       "    </tr>\n",
       "    <tr>\n",
       "      <td>2</td>\n",
       "      <td>2013-10-29</td>\n",
       "      <td>4100.000000</td>\n",
       "    </tr>\n",
       "    <tr>\n",
       "      <td>3</td>\n",
       "      <td>2014-09-18</td>\n",
       "      <td>3420.000000</td>\n",
       "    </tr>\n",
       "    <tr>\n",
       "      <td>4</td>\n",
       "      <td>2009-02-27</td>\n",
       "      <td>6403.371783</td>\n",
       "    </tr>\n",
       "  </tbody>\n",
       "</table>\n",
       "</div>"
      ],
      "text/plain": [
       "  Date_Application_Received  Project_Cost_per_kW_DC\n",
       "0                2016-07-11             3854.588235\n",
       "1                2016-07-26             3545.238095\n",
       "2                2013-10-29             4100.000000\n",
       "3                2014-09-18             3420.000000\n",
       "4                2009-02-27             6403.371783"
      ]
     },
     "execution_count": 12,
     "metadata": {},
     "output_type": "execute_result"
    }
   ],
   "source": [
    "df[['Date_Application_Received','Project_Cost_per_kW_DC']].head()"
   ]
  },
  {
   "cell_type": "code",
   "execution_count": 13,
   "metadata": {},
   "outputs": [
    {
     "data": {
      "text/plain": [
       "Date_Application_Received      0\n",
       "Project_Cost_per_kW_DC       184\n",
       "dtype: int64"
      ]
     },
     "execution_count": 13,
     "metadata": {},
     "output_type": "execute_result"
    }
   ],
   "source": [
    "df[['Date_Application_Received','Project_Cost_per_kW_DC']].isna().sum()"
   ]
  },
  {
   "cell_type": "markdown",
   "metadata": {},
   "source": [
    "There are a total of 105337 records in the dataframe, out of which 184 rows have nans in \"Project_Cost_per_kW_DC\" which is 0.1 % of the data.\n",
    "\n",
    "I am leaving the nans as it is beacause the cost varies from project to project based on capacity and year. And, they are of a neglible number."
   ]
  },
  {
   "cell_type": "code",
   "execution_count": null,
   "metadata": {},
   "outputs": [],
   "source": []
  },
  {
   "cell_type": "markdown",
   "metadata": {},
   "source": [
    "## Hypotheses 1\n",
    "The data has two date columns \"Date Application Received\" and \"Date Completed\", which provide the start and end date of the solar projects.\n",
    "\n",
    "The dataset has solar project records from 2000 to 2019. This would be the time span. The data for 2020 would not be considered as the complete data is not available. Looking at the dataset the number of solar projects should have increased by 5000 times over the years from 2000 to 2019."
   ]
  },
  {
   "cell_type": "code",
   "execution_count": 14,
   "metadata": {},
   "outputs": [
    {
     "data": {
      "image/png": "[encoded data removed]",
      "text/plain": [
       "<Figure size 1440x720 with 1 Axes>"
      ]
     },
     "metadata": {
      "needs_background": "light"
     },
     "output_type": "display_data"
    }
   ],
   "source": [
    "#ref: https://stackoverflow.com/questions/47255746/change-order-on-x-axis-for-matplotlib-chart\n",
    "#ref :https://stackoverflow.com/questions/30228069/how-to-display-the-value-of-the-bar-on-each-bar-with-pyplot-barh\n",
    "#ref: https://stackoverflow.com/questions/12998430/remove-xticks-in-a-matplotlib-plot\n",
    "\n",
    "year_order = df['Date_Application_Received'].dt.year.unique()\n",
    "year_order.sort()\n",
    "df['Date_Application_Received'].dt.year.value_counts().loc[year_order].plot.bar(grid=True, rot=0, figsize=(20,10))\n",
    "plt.xlabel('Year')\n",
    "plt.ylabel('Number of projects')\n",
    "plt.yticks([])\n",
    "for index,data in enumerate(df['Date_Application_Received'].dt.year.value_counts().loc[year_order]):\n",
    "    plt.text(x=index , y =data+1 , s=f\"{data}\" , fontdict=dict(fontsize=15))\n",
    "plt.title('Hypotheses 1: Number of solar projects should have increased by 5000 times over the years from 2000 to 2019')\n",
    "plt.tight_layout()"
   ]
  },
  {
   "cell_type": "markdown",
   "metadata": {},
   "source": [
    "The number projects in 2019 were 11137 and number of projects in 2000 were 2.\n",
    "\n",
    "So my hypothesis 1 is of true. The number of solar projects in New York have increased by over 5000 times from 2000 to 2019.\n",
    "\n",
    "I should also consider the fact that the data of the solar projects are only the ones that were reported. There might be other projects that were not reported.\n",
    "\n",
    "Additionally, if we look at the graph, there was a hugh spike in 2015. \n",
    "I have done some research and found that for 2014 Governor elections, Governor Cuomo announced to increase solar projects accross the state as part of his campaigns. This might be a reason for the spike.\n",
    "\n",
    "References:\n",
    "https://www.governor.ny.gov/news/governor-cuomo-announces-solar-growth-more-300-percent-2011-2014-new-york-state\n",
    "https://www.governor.ny.gov/news/governor-cuomo-announces-900-solar-projects-underway-through-26-community-solarize-campaigns-0\n",
    "https://en.wikipedia.org/wiki/New_York_gubernatorial_elections"
   ]
  },
  {
   "cell_type": "code",
   "execution_count": null,
   "metadata": {},
   "outputs": [],
   "source": []
  },
  {
   "cell_type": "markdown",
   "metadata": {},
   "source": [
    "## Hypotheses 2\n",
    "\n",
    "I could use the \"Total Nameplate kW DC\" and \"Project Cost\" to calculate the cost of the project per kilowatt (kW) produce over the years from 2000 to 2019. The cost should have reduced by more than 50%."
   ]
  },
  {
   "cell_type": "code",
   "execution_count": 15,
   "metadata": {},
   "outputs": [
    {
     "data": {
      "text/plain": [
       "Text(0.5, 1.0, 'Hypotheses 2: Cost of project to produce per kilowatt (kW) should have reduced by more than 50%')"
      ]
     },
     "execution_count": 15,
     "metadata": {},
     "output_type": "execute_result"
    },
    {
     "data": {
      "image/png": "[encoded data removed]",
      "text/plain": [
       "<Figure size 1440x720 with 1 Axes>"
      ]
     },
     "metadata": {
      "needs_background": "light"
     },
     "output_type": "display_data"
    }
   ],
   "source": [
    "#ref: https://stackoverflow.com/questions/22642511/change-y-range-to-start-from-0-with-matplotlib\n",
    "\n",
    "df['Project_Cost_per_kW_DC'].groupby(df['Date_Application_Received'].dt.year).mean().plot(grid=True,rot=0, figsize=(20,10))\n",
    "plt.xlabel('Year')\n",
    "plt.xticks(df['Date_Application_Received'].dt.year.unique())\n",
    "plt.ylabel('Project Cost per kW DC in USD')\n",
    "plt.ylim(ymin=0)\n",
    "plt.title('Hypotheses 2: Cost of project to produce per kilowatt (kW) should have reduced by more than 50%')"
   ]
  },
  {
   "cell_type": "markdown",
   "metadata": {},
   "source": [
    "The cost of the project to produce per kilowatt (kW) of DC was around USD 9000 in the year 2000 and around USD 4000 in the year 2019.\n",
    "\n",
    "So my hypothesis 2 is of true. The cost of the project to produce per kilowatt (kW) of DC over the years from 2000 to 2019 has reduced by more than 50%.\n",
    "\n",
    "I should also consider the fact that the data of the solar projects are only the ones that were repoted. There might be other projects that were not reported.\n",
    "\n",
    "If we look at the plot, there was a spike in the cost in 2008.\n",
    "As per my research, The market almost stalled in late 2008, when the federal tax credit was set to expire. With much pressure from industry groups, Congress extended the credit to 2016. And when the recession tightened credit markets and flattened investors’ profits, making tax credits less attractive, the federal government offered the option of a 30 percent upfront grant instead of the tax credit, as part of the 2009 recovery act.\n",
    "\n",
    "#ref: https://www.nytimes.com/2010/04/22/business/energy-environment/22SOLAR.html\n",
    "\n",
    "I should also consider the 0.1 % of nan values in the \"Project_Cost_per_kW_DC\" column which are in the plot. This might be a cause for the inconsistency."
   ]
  },
  {
   "cell_type": "code",
   "execution_count": null,
   "metadata": {},
   "outputs": [],
   "source": []
  },
  {
   "cell_type": "code",
   "execution_count": 16,
   "metadata": {
    "scrolled": true
   },
   "outputs": [
    {
     "name": "stdout",
     "output_type": "stream",
     "text": [
      "0.6242748856544494 minutes\n",
      "37.457056760787964 seconds\n"
     ]
    }
   ],
   "source": [
    "#Total run time\n",
    "\n",
    "print((time.time() - start_time)/60,'minutes')\n",
    "print(time.time() - start_time,'seconds')"
   ]
  }
 ],
 "metadata": {
  "kernelspec": {
   "display_name": "Python 3",
   "language": "python",
   "name": "python3"
  },
  "language_info": {
   "codemirror_mode": {
    "name": "ipython",
    "version": 3
   },
   "file_extension": ".py",
   "mimetype": "text/x-python",
   "name": "python",
   "nbconvert_exporter": "python",
   "pygments_lexer": "ipython3",
   "version": "3.7.4"
  }
 },
 "nbformat": 4,
 "nbformat_minor": 2
}
